{
 "cells": [
  {
   "cell_type": "markdown",
   "metadata": {},
   "source": [
    "# Working Example\n",
    "## Multi-variate, Multi-step Time Series Prediction w/ LSTM"
   ]
  },
  {
   "cell_type": "markdown",
   "metadata": {},
   "source": [
    "Import Modules"
   ]
  },
  {
   "cell_type": "code",
   "execution_count": 1,
   "metadata": {},
   "outputs": [],
   "source": [
    "import pandas as pd\n",
    "import numpy as np\n",
    "import matplotlib.pyplot as plt\n",
    "from sklearn import metrics\n",
    "import tqdm\n",
    "%matplotlib inline"
   ]
  },
  {
   "cell_type": "markdown",
   "metadata": {},
   "source": [
    "Load Data"
   ]
  },
  {
   "cell_type": "code",
   "execution_count": 2,
   "metadata": {},
   "outputs": [
    {
     "name": "stdout",
     "output_type": "stream",
     "text": [
      "(5031, 16) \n",
      "\n",
      "                             Open    High     Low   Close   Volume  SMA_10  \\\n",
      "Timestamp                                                                    \n",
      "2000-01-03 00:00:00-05:00  19.500  19.500  18.750  18.813   580000     NaN   \n",
      "2000-01-04 00:00:00-05:00  18.813  18.969   9.000   9.188  1528798     NaN   \n",
      "2000-01-05 00:00:00-05:00   9.250  19.188   9.188  19.063   700200     NaN   \n",
      "\n",
      "                           SMA_50  EMA_10  EMA_50         RSI  ROC  MACD_Line  \\\n",
      "Timestamp                                                                       \n",
      "2000-01-03 00:00:00-05:00     NaN     NaN     NaN  100.000000  NaN        NaN   \n",
      "2000-01-04 00:00:00-05:00     NaN     NaN     NaN    0.000000  NaN        NaN   \n",
      "2000-01-05 00:00:00-05:00     NaN     NaN     NaN   52.491694  NaN        NaN   \n",
      "\n",
      "                           MACD_Diff  MACD_Sig  WO  ATR  \n",
      "Timestamp                                                \n",
      "2000-01-03 00:00:00-05:00        NaN       NaN NaN  0.0  \n",
      "2000-01-04 00:00:00-05:00        NaN       NaN NaN  0.0  \n",
      "2000-01-05 00:00:00-05:00        NaN       NaN NaN  0.0  \n"
     ]
    }
   ],
   "source": [
    "if True:\n",
    "    keep_col = list(range(1,18))\n",
    "\n",
    "    df_day = pd.read_csv('Clean Data/ECL_Clean_Day.csv', \n",
    "                         infer_datetime_format=True,\n",
    "                         parse_dates=['Timestamp'], \n",
    "                         index_col=['Timestamp'],\n",
    "                         usecols = keep_col,\n",
    "                         date_parser=lambda col: pd.to_datetime(col, utc=True).tz_convert('America/New_York'))\n",
    "\n",
    "    #df_day.dtypes\n",
    "    print (df_day.shape,'\\n')\n",
    "    print (df_day.head(3))"
   ]
  },
  {
   "cell_type": "markdown",
   "metadata": {},
   "source": [
    "Slice the data to get the 10 most recent years (2010 through 2019)"
   ]
  },
  {
   "cell_type": "code",
   "execution_count": 3,
   "metadata": {},
   "outputs": [
    {
     "data": {
      "text/plain": [
       "(2516, 16)"
      ]
     },
     "execution_count": 3,
     "metadata": {},
     "output_type": "execute_result"
    }
   ],
   "source": [
    "# create 10 years of data from 2019 - 2010\n",
    "\n",
    "day_data = df_day[df_day.index >= '2010-01-01']\n",
    "day_data.shape"
   ]
  },
  {
   "cell_type": "markdown",
   "metadata": {},
   "source": [
    "Slice the data for the first 5 columns (Open, High, Low, Close, Volume) and then rearrange with Close price as the last column."
   ]
  },
  {
   "cell_type": "code",
   "execution_count": 4,
   "metadata": {},
   "outputs": [
    {
     "name": "stdout",
     "output_type": "stream",
     "text": [
      "(2516, 4)\n"
     ]
    },
    {
     "data": {
      "text/html": [
       "<div>\n",
       "<style scoped>\n",
       "    .dataframe tbody tr th:only-of-type {\n",
       "        vertical-align: middle;\n",
       "    }\n",
       "\n",
       "    .dataframe tbody tr th {\n",
       "        vertical-align: top;\n",
       "    }\n",
       "\n",
       "    .dataframe thead th {\n",
       "        text-align: right;\n",
       "    }\n",
       "</style>\n",
       "<table border=\"1\" class=\"dataframe\">\n",
       "  <thead>\n",
       "    <tr style=\"text-align: right;\">\n",
       "      <th></th>\n",
       "      <th>Open</th>\n",
       "      <th>High</th>\n",
       "      <th>Low</th>\n",
       "      <th>Close</th>\n",
       "    </tr>\n",
       "    <tr>\n",
       "      <th>Timestamp</th>\n",
       "      <th></th>\n",
       "      <th></th>\n",
       "      <th></th>\n",
       "      <th></th>\n",
       "    </tr>\n",
       "  </thead>\n",
       "  <tbody>\n",
       "    <tr>\n",
       "      <th>2010-01-04 00:00:00-05:00</th>\n",
       "      <td>45.08</td>\n",
       "      <td>45.3392</td>\n",
       "      <td>44.86</td>\n",
       "      <td>45.23</td>\n",
       "    </tr>\n",
       "    <tr>\n",
       "      <th>2010-01-05 00:00:00-05:00</th>\n",
       "      <td>45.12</td>\n",
       "      <td>45.1400</td>\n",
       "      <td>44.31</td>\n",
       "      <td>44.51</td>\n",
       "    </tr>\n",
       "    <tr>\n",
       "      <th>2010-01-06 00:00:00-05:00</th>\n",
       "      <td>44.49</td>\n",
       "      <td>44.8500</td>\n",
       "      <td>44.15</td>\n",
       "      <td>44.41</td>\n",
       "    </tr>\n",
       "  </tbody>\n",
       "</table>\n",
       "</div>"
      ],
      "text/plain": [
       "                            Open     High    Low  Close\n",
       "Timestamp                                              \n",
       "2010-01-04 00:00:00-05:00  45.08  45.3392  44.86  45.23\n",
       "2010-01-05 00:00:00-05:00  45.12  45.1400  44.31  44.51\n",
       "2010-01-06 00:00:00-05:00  44.49  44.8500  44.15  44.41"
      ]
     },
     "execution_count": 4,
     "metadata": {},
     "output_type": "execute_result"
    }
   ],
   "source": [
    "#slice for the first 4 cols only\n",
    "data = day_data.loc[:,'Open':'Close']\n",
    "\n",
    "#rearrange column order\n",
    "data = data[['Open', 'High', 'Low', 'Close']]\n",
    "print (data.shape)\n",
    "data.head(3)"
   ]
  },
  {
   "cell_type": "markdown",
   "metadata": {},
   "source": [
    "Function borrowed from Jason Brownlee's amazing website: [www.machinelearningmastery.com]"
   ]
  },
  {
   "cell_type": "code",
   "execution_count": 5,
   "metadata": {},
   "outputs": [],
   "source": [
    "#from: machinelearningmastery.com/blog/\n",
    "\n",
    "def time_series_to_supervised(data, n_lag=1, n_fut=1, selLag=None, selFut=None, dropnan=True):\n",
    "    \"\"\"\n",
    "    Converts a time series to a supervised learning data set by adding time-shifted prior and future period\n",
    "    data as input or output (i.e., target result) columns for each period\n",
    "    :param data:  a series of periodic attributes as a list or NumPy array\n",
    "    :param n_lag: number of PRIOR periods to lag as input (X); generates: Xa(t-1), Xa(t-2); min= 0 --> nothing lagged\n",
    "    :param n_fut: number of FUTURE periods to add as target output (y); generates Yout(t+1); min= 0 --> no future periods\n",
    "    :param selLag:  only copy these specific PRIOR period attributes; default= None; EX: ['Xa', 'Xb' ]\n",
    "    :param selFut:  only copy these specific FUTURE period attributes; default= None; EX: ['rslt', 'xx']\n",
    "    :param dropnan: True= drop rows with NaN values; default= True\n",
    "    :return: a Pandas DataFrame of time series data organized for supervised learning\n",
    "    NOTES:\n",
    "    (1) The current period's data is always included in the output.\n",
    "    (2) A suffix is added to the original column names to indicate a relative time reference: e.g., (t) is the current\n",
    "        period; (t-2) is from two periods in the past; (t+1) is from the next period\n",
    "    (3) This is an extension of Jason Brownlee's series_to_supervised() function, customized for MFI use\n",
    "    \"\"\"\n",
    "    n_vars = 1 if type(data) is list else data.shape[1]\n",
    "    df = pd.DataFrame(data)\n",
    "    origNames = df.columns\n",
    "    cols, names = list(), list()\n",
    "    # include all current period attributes\n",
    "    cols.append(df.shift(0))\n",
    "    names += [('%s' % origNames[j]) for j in range(n_vars)]\n",
    " \n",
    "    # lag any past period attributes (t-n_lag,...,t-1)\n",
    "    n_lag = max(0, n_lag)  # force valid number of lag periods\n",
    "    for i in range(n_lag, 0, -1):\n",
    "        suffix= '(t-%d)' % i\n",
    "        if (None == selLag):   # copy all attributes from PRIOR periods?\n",
    "            cols.append(df.shift(i))\n",
    "            names += [('%s%s' % (origNames[j], suffix)) for j in range(n_vars)]\n",
    "        else:\n",
    "            for var in (selLag):\n",
    "                cols.append(df[var].shift(i))\n",
    "                names+= [('%s%s' % (var, suffix))]\n",
    " \n",
    "    # include future period attributes (t+1,...,t+n_fut)\n",
    "    n_fut = max(n_fut, 0)  # force valid number of future periods to shift back\n",
    "    for i in range(1, n_fut + 1):\n",
    "        suffix= '(t+%d)' % i\n",
    "        if (None == selFut):  # copy all attributes from future periods?\n",
    "            cols.append(df.shift(-i))\n",
    "            names += [('%s%s' % (origNames[j], suffix)) for j in range(n_vars)]\n",
    "        else:  # copy only selected future attributes\n",
    "            for var in (selFut):\n",
    "                cols.append(df[var].shift(-i))\n",
    "                names += [('%s%s' % (var, suffix))]\n",
    "    # combine everything\n",
    "    agg = pd.concat(cols, axis=1)\n",
    "    agg.columns = names\n",
    "    # drop rows with NaN values introduced by lagging\n",
    "    if dropnan:\n",
    "        agg.dropna(inplace=True)\n",
    "    return agg"
   ]
  },
  {
   "cell_type": "markdown",
   "metadata": {},
   "source": [
    "Problem Framing:\n",
    "* Multivariate (Open, High, Low, Close, Volume)\n",
    "* Univariate, multistep output (Close)\n",
    "* Predict the next 30 days Close price using the previous 30 days\n",
    "\n",
    "Therefore:\n",
    "* n_in = 30\n",
    "* n_out = 30\n",
    "* n_features = 4\n",
    "\n",
    "Rerrange the data to a supervised learning problem using the `time_series_to_supervised` function."
   ]
  },
  {
   "cell_type": "code",
   "execution_count": 6,
   "metadata": {},
   "outputs": [],
   "source": [
    "data = time_series_to_supervised(data, n_lag=30, n_fut=30, selFut=['Close'])"
   ]
  },
  {
   "cell_type": "markdown",
   "metadata": {},
   "source": [
    "As expected, we end up with 30 * 4 + 30 * 1 + 4 = 154 columns. That splits as:\n",
    "* 30 x 4 = n_in x n_features (in)\n",
    "* 30 x 4 = n_out x n_features (out)\n",
    "* 1 x 4 = n_features a time t"
   ]
  },
  {
   "cell_type": "code",
   "execution_count": 7,
   "metadata": {},
   "outputs": [
    {
     "data": {
      "text/plain": [
       "(2456, 154)"
      ]
     },
     "execution_count": 7,
     "metadata": {},
     "output_type": "execute_result"
    }
   ],
   "source": [
    "data.shape"
   ]
  },
  {
   "cell_type": "code",
   "execution_count": 8,
   "metadata": {},
   "outputs": [
    {
     "name": "stdout",
     "output_type": "stream",
     "text": [
      "Open\n",
      "High\n",
      "Low\n",
      "Close\n",
      "Open(t-30)\n",
      "High(t-30)\n",
      "Low(t-30)\n",
      "Close(t-30)\n",
      "Open(t-29)\n",
      "High(t-29)\n",
      "Low(t-29)\n",
      "Close(t-29)\n",
      "Open(t-28)\n",
      "High(t-28)\n",
      "Low(t-28)\n",
      "Close(t-28)\n",
      "Open(t-27)\n",
      "High(t-27)\n",
      "Low(t-27)\n",
      "Close(t-27)\n",
      "Open(t-26)\n",
      "High(t-26)\n",
      "Low(t-26)\n",
      "Close(t-26)\n",
      "Open(t-25)\n",
      "High(t-25)\n",
      "Low(t-25)\n",
      "Close(t-25)\n",
      "Open(t-24)\n",
      "High(t-24)\n",
      "Low(t-24)\n",
      "Close(t-24)\n",
      "Open(t-23)\n",
      "High(t-23)\n",
      "Low(t-23)\n",
      "Close(t-23)\n",
      "Open(t-22)\n",
      "High(t-22)\n",
      "Low(t-22)\n",
      "Close(t-22)\n",
      "Open(t-21)\n",
      "High(t-21)\n",
      "Low(t-21)\n",
      "Close(t-21)\n",
      "Open(t-20)\n",
      "High(t-20)\n",
      "Low(t-20)\n",
      "Close(t-20)\n",
      "Open(t-19)\n",
      "High(t-19)\n",
      "Low(t-19)\n",
      "Close(t-19)\n",
      "Open(t-18)\n",
      "High(t-18)\n",
      "Low(t-18)\n",
      "Close(t-18)\n",
      "Open(t-17)\n",
      "High(t-17)\n",
      "Low(t-17)\n",
      "Close(t-17)\n",
      "Open(t-16)\n",
      "High(t-16)\n",
      "Low(t-16)\n",
      "Close(t-16)\n",
      "Open(t-15)\n",
      "High(t-15)\n",
      "Low(t-15)\n",
      "Close(t-15)\n",
      "Open(t-14)\n",
      "High(t-14)\n",
      "Low(t-14)\n",
      "Close(t-14)\n",
      "Open(t-13)\n",
      "High(t-13)\n",
      "Low(t-13)\n",
      "Close(t-13)\n",
      "Open(t-12)\n",
      "High(t-12)\n",
      "Low(t-12)\n",
      "Close(t-12)\n",
      "Open(t-11)\n",
      "High(t-11)\n",
      "Low(t-11)\n",
      "Close(t-11)\n",
      "Open(t-10)\n",
      "High(t-10)\n",
      "Low(t-10)\n",
      "Close(t-10)\n",
      "Open(t-9)\n",
      "High(t-9)\n",
      "Low(t-9)\n",
      "Close(t-9)\n",
      "Open(t-8)\n",
      "High(t-8)\n",
      "Low(t-8)\n",
      "Close(t-8)\n",
      "Open(t-7)\n",
      "High(t-7)\n",
      "Low(t-7)\n",
      "Close(t-7)\n",
      "Open(t-6)\n",
      "High(t-6)\n",
      "Low(t-6)\n",
      "Close(t-6)\n",
      "Open(t-5)\n",
      "High(t-5)\n",
      "Low(t-5)\n",
      "Close(t-5)\n",
      "Open(t-4)\n",
      "High(t-4)\n",
      "Low(t-4)\n",
      "Close(t-4)\n",
      "Open(t-3)\n",
      "High(t-3)\n",
      "Low(t-3)\n",
      "Close(t-3)\n",
      "Open(t-2)\n",
      "High(t-2)\n",
      "Low(t-2)\n",
      "Close(t-2)\n",
      "Open(t-1)\n",
      "High(t-1)\n",
      "Low(t-1)\n",
      "Close(t-1)\n",
      "Close(t+1)\n",
      "Close(t+2)\n",
      "Close(t+3)\n",
      "Close(t+4)\n",
      "Close(t+5)\n",
      "Close(t+6)\n",
      "Close(t+7)\n",
      "Close(t+8)\n",
      "Close(t+9)\n",
      "Close(t+10)\n",
      "Close(t+11)\n",
      "Close(t+12)\n",
      "Close(t+13)\n",
      "Close(t+14)\n",
      "Close(t+15)\n",
      "Close(t+16)\n",
      "Close(t+17)\n",
      "Close(t+18)\n",
      "Close(t+19)\n",
      "Close(t+20)\n",
      "Close(t+21)\n",
      "Close(t+22)\n",
      "Close(t+23)\n",
      "Close(t+24)\n",
      "Close(t+25)\n",
      "Close(t+26)\n",
      "Close(t+27)\n",
      "Close(t+28)\n",
      "Close(t+29)\n",
      "Close(t+30)\n"
     ]
    }
   ],
   "source": [
    "for i in data.columns:\n",
    "    print (i)"
   ]
  },
  {
   "cell_type": "markdown",
   "metadata": {},
   "source": [
    "Split the data into train and test based on a date. That gives 7 years for training and 3 years for testing."
   ]
  },
  {
   "cell_type": "code",
   "execution_count": 9,
   "metadata": {},
   "outputs": [
    {
     "name": "stdout",
     "output_type": "stream",
     "text": [
      "(1732, 154) (724, 154)\n"
     ]
    }
   ],
   "source": [
    "cut_off = '2017-01-01'\n",
    "train = data[data.index < cut_off].values\n",
    "test = data[data.index > cut_off].values\n",
    "print (train.shape, test.shape)"
   ]
  },
  {
   "cell_type": "markdown",
   "metadata": {},
   "source": [
    "Reshape the data for LSTM"
   ]
  },
  {
   "cell_type": "code",
   "execution_count": 10,
   "metadata": {},
   "outputs": [
    {
     "name": "stdout",
     "output_type": "stream",
     "text": [
      "Shape of splits:\n",
      "(1732, 120) (1732, 30) (724, 120) (724, 30) \n",
      "\n",
      "Re-shaped for LSTM:\n",
      "(1732, 30, 4) (1732, 30) (724, 30, 4) (724, 30)\n"
     ]
    }
   ],
   "source": [
    "n_features = 4\n",
    "n_in, n_out = 30, 30\n",
    "\n",
    "# 5 features, 3 timesteps lag\n",
    "n_obs = n_features * n_in\n",
    "\n",
    "# split X, y\n",
    "X_train, y_train = train[:, :n_obs], train[:, -n_out:] #-n_features\n",
    "X_test, y_test = test[:, :n_obs], test[:, -n_out:] #-n_features\n",
    "print('Shape of splits:')\n",
    "print(X_train.shape, y_train.shape, X_test.shape, y_test.shape,'\\n')\n",
    "\n",
    "# reshape input to be 3D [samples, timesteps, features]\n",
    "X_train = X_train.reshape((X_train.shape[0], n_in, n_features))\n",
    "X_test = X_test.reshape((X_test.shape[0], n_in, n_features))\n",
    "print('Re-shaped for LSTM:')\n",
    "print(X_train.shape, y_train.shape, X_test.shape, y_test.shape)"
   ]
  },
  {
   "cell_type": "markdown",
   "metadata": {},
   "source": [
    "Define a simple stacked LSTM model and train it"
   ]
  },
  {
   "cell_type": "code",
   "execution_count": 11,
   "metadata": {},
   "outputs": [
    {
     "name": "stderr",
     "output_type": "stream",
     "text": [
      "Using TensorFlow backend.\n",
      "/Users/jacobscottanthony/anaconda3/lib/python3.6/site-packages/tensorflow/python/framework/dtypes.py:516: FutureWarning: Passing (type, 1) or '1type' as a synonym of type is deprecated; in a future version of numpy, it will be understood as (type, (1,)) / '(1,)type'.\n",
      "  _np_qint8 = np.dtype([(\"qint8\", np.int8, 1)])\n",
      "/Users/jacobscottanthony/anaconda3/lib/python3.6/site-packages/tensorflow/python/framework/dtypes.py:517: FutureWarning: Passing (type, 1) or '1type' as a synonym of type is deprecated; in a future version of numpy, it will be understood as (type, (1,)) / '(1,)type'.\n",
      "  _np_quint8 = np.dtype([(\"quint8\", np.uint8, 1)])\n",
      "/Users/jacobscottanthony/anaconda3/lib/python3.6/site-packages/tensorflow/python/framework/dtypes.py:518: FutureWarning: Passing (type, 1) or '1type' as a synonym of type is deprecated; in a future version of numpy, it will be understood as (type, (1,)) / '(1,)type'.\n",
      "  _np_qint16 = np.dtype([(\"qint16\", np.int16, 1)])\n",
      "/Users/jacobscottanthony/anaconda3/lib/python3.6/site-packages/tensorflow/python/framework/dtypes.py:519: FutureWarning: Passing (type, 1) or '1type' as a synonym of type is deprecated; in a future version of numpy, it will be understood as (type, (1,)) / '(1,)type'.\n",
      "  _np_quint16 = np.dtype([(\"quint16\", np.uint16, 1)])\n",
      "/Users/jacobscottanthony/anaconda3/lib/python3.6/site-packages/tensorflow/python/framework/dtypes.py:520: FutureWarning: Passing (type, 1) or '1type' as a synonym of type is deprecated; in a future version of numpy, it will be understood as (type, (1,)) / '(1,)type'.\n",
      "  _np_qint32 = np.dtype([(\"qint32\", np.int32, 1)])\n",
      "/Users/jacobscottanthony/anaconda3/lib/python3.6/site-packages/tensorflow/python/framework/dtypes.py:525: FutureWarning: Passing (type, 1) or '1type' as a synonym of type is deprecated; in a future version of numpy, it will be understood as (type, (1,)) / '(1,)type'.\n",
      "  np_resource = np.dtype([(\"resource\", np.ubyte, 1)])\n",
      "/Users/jacobscottanthony/anaconda3/lib/python3.6/site-packages/tensorboard/compat/tensorflow_stub/dtypes.py:541: FutureWarning: Passing (type, 1) or '1type' as a synonym of type is deprecated; in a future version of numpy, it will be understood as (type, (1,)) / '(1,)type'.\n",
      "  _np_qint8 = np.dtype([(\"qint8\", np.int8, 1)])\n",
      "/Users/jacobscottanthony/anaconda3/lib/python3.6/site-packages/tensorboard/compat/tensorflow_stub/dtypes.py:542: FutureWarning: Passing (type, 1) or '1type' as a synonym of type is deprecated; in a future version of numpy, it will be understood as (type, (1,)) / '(1,)type'.\n",
      "  _np_quint8 = np.dtype([(\"quint8\", np.uint8, 1)])\n",
      "/Users/jacobscottanthony/anaconda3/lib/python3.6/site-packages/tensorboard/compat/tensorflow_stub/dtypes.py:543: FutureWarning: Passing (type, 1) or '1type' as a synonym of type is deprecated; in a future version of numpy, it will be understood as (type, (1,)) / '(1,)type'.\n",
      "  _np_qint16 = np.dtype([(\"qint16\", np.int16, 1)])\n",
      "/Users/jacobscottanthony/anaconda3/lib/python3.6/site-packages/tensorboard/compat/tensorflow_stub/dtypes.py:544: FutureWarning: Passing (type, 1) or '1type' as a synonym of type is deprecated; in a future version of numpy, it will be understood as (type, (1,)) / '(1,)type'.\n",
      "  _np_quint16 = np.dtype([(\"quint16\", np.uint16, 1)])\n",
      "/Users/jacobscottanthony/anaconda3/lib/python3.6/site-packages/tensorboard/compat/tensorflow_stub/dtypes.py:545: FutureWarning: Passing (type, 1) or '1type' as a synonym of type is deprecated; in a future version of numpy, it will be understood as (type, (1,)) / '(1,)type'.\n",
      "  _np_qint32 = np.dtype([(\"qint32\", np.int32, 1)])\n",
      "/Users/jacobscottanthony/anaconda3/lib/python3.6/site-packages/tensorboard/compat/tensorflow_stub/dtypes.py:550: FutureWarning: Passing (type, 1) or '1type' as a synonym of type is deprecated; in a future version of numpy, it will be understood as (type, (1,)) / '(1,)type'.\n",
      "  np_resource = np.dtype([(\"resource\", np.ubyte, 1)])\n"
     ]
    }
   ],
   "source": [
    "from keras.models import Sequential\n",
    "from keras.layers import LSTM\n",
    "from keras.layers import Dense"
   ]
  },
  {
   "cell_type": "code",
   "execution_count": 12,
   "metadata": {},
   "outputs": [],
   "source": [
    "model = Sequential()\n",
    "model.add(LSTM(100, activation='relu', return_sequences=True, input_shape=((X_train.shape[1]), X_train.shape[2])))\n",
    "model.add(LSTM(100, activation='relu'))\n",
    "model.add(Dense(n_out))\n",
    "model.compile(optimizer='adam', loss='mae')"
   ]
  },
  {
   "cell_type": "code",
   "execution_count": 13,
   "metadata": {},
   "outputs": [
    {
     "name": "stdout",
     "output_type": "stream",
     "text": [
      "WARNING:tensorflow:From /Users/jacobscottanthony/anaconda3/lib/python3.6/site-packages/keras/backend/tensorflow_backend.py:422: The name tf.global_variables is deprecated. Please use tf.compat.v1.global_variables instead.\n",
      "\n",
      "Train on 1732 samples, validate on 724 samples\n",
      "Epoch 1/10\n",
      "1732/1732 [==============================] - 4s 2ms/step - loss: 27.2950 - val_loss: 49.2617\n",
      "Epoch 2/10\n",
      "1732/1732 [==============================] - 3s 2ms/step - loss: 34.2263 - val_loss: 37.6263\n",
      "Epoch 3/10\n",
      "1732/1732 [==============================] - 3s 2ms/step - loss: 13.7547 - val_loss: 24.8624\n",
      "Epoch 4/10\n",
      "1732/1732 [==============================] - 4s 2ms/step - loss: 7.1224 - val_loss: 7.6258\n",
      "Epoch 5/10\n",
      "1732/1732 [==============================] - 4s 2ms/step - loss: 24.1861 - val_loss: 699.0815\n",
      "Epoch 6/10\n",
      "1732/1732 [==============================] - 4s 2ms/step - loss: 72.3839 - val_loss: 96.4650\n",
      "Epoch 7/10\n",
      "1732/1732 [==============================] - 5s 3ms/step - loss: 11.1386 - val_loss: 6.0562\n",
      "Epoch 8/10\n",
      "1732/1732 [==============================] - 4s 2ms/step - loss: 3.7407 - val_loss: 6.3773\n",
      "Epoch 9/10\n",
      "1732/1732 [==============================] - 4s 2ms/step - loss: 3.7176 - val_loss: 5.5631\n",
      "Epoch 10/10\n",
      "1732/1732 [==============================] - 4s 2ms/step - loss: 3.6343 - val_loss: 5.8178\n"
     ]
    }
   ],
   "source": [
    "history = model.fit(X_train, y_train, \n",
    "                    epochs=10, batch_size=30, \n",
    "                    validation_data=(X_test, y_test), \n",
    "                    verbose=1, shuffle=False)"
   ]
  },
  {
   "cell_type": "code",
   "execution_count": 14,
   "metadata": {},
   "outputs": [
    {
     "data": {
      "image/png": "[encoded data removed]",
      "text/plain": [
       "<Figure size 432x288 with 1 Axes>"
      ]
     },
     "metadata": {
      "needs_background": "light"
     },
     "output_type": "display_data"
    }
   ],
   "source": [
    "plt.plot(history.history['loss'], label='train loss')\n",
    "plt.plot(history.history['val_loss'], label='val loss')\n",
    "plt.legend()\n",
    "plt.show()"
   ]
  },
  {
   "cell_type": "markdown",
   "metadata": {},
   "source": [
    "Model performance is poor but that's irrelevant at this stage. I'll grid search this later."
   ]
  },
  {
   "cell_type": "code",
   "execution_count": 15,
   "metadata": {},
   "outputs": [
    {
     "name": "stdout",
     "output_type": "stream",
     "text": [
      "(30, 4)\n"
     ]
    },
    {
     "data": {
      "text/plain": [
       "array([[117.58  , 118.41  , 117.29  , 118.03  ],\n",
       "       [114.31  , 114.88  , 114.115 , 114.84  ],\n",
       "       [114.83  , 115.27  , 114.09  , 114.31  ],\n",
       "       [114.9   , 115.23  , 114.36  , 114.91  ],\n",
       "       [115.058 , 116.56  , 114.91  , 116.39  ],\n",
       "       [116.34  , 117.44  , 116.34  , 116.77  ],\n",
       "       [116.84  , 116.84  , 116.12  , 116.56  ],\n",
       "       [116.61  , 117.    , 116.05  , 116.33  ],\n",
       "       [116.23  , 116.98  , 115.78  , 116.41  ],\n",
       "       [116.7359, 117.37  , 116.16  , 116.695 ],\n",
       "       [117.    , 118.55  , 116.88  , 118.49  ],\n",
       "       [118.457 , 118.72  , 116.41  , 116.81  ],\n",
       "       [117.32  , 119.05  , 117.    , 118.56  ],\n",
       "       [118.21  , 118.38  , 116.42  , 116.91  ],\n",
       "       [116.85  , 118.82  , 116.64  , 118.78  ],\n",
       "       [118.8158, 119.76  , 118.42  , 119.56  ],\n",
       "       [119.34  , 120.51  , 119.31  , 120.5   ],\n",
       "       [120.98  , 121.81  , 120.485 , 121.48  ],\n",
       "       [121.88  , 122.25  , 121.25  , 122.18  ],\n",
       "       [121.9947, 122.23  , 120.83  , 121.03  ],\n",
       "       [120.28  , 122.09  , 119.75  , 122.04  ],\n",
       "       [121.75  , 122.    , 120.2   , 120.33  ],\n",
       "       [120.52  , 120.86  , 120.11  , 120.57  ],\n",
       "       [120.8   , 121.19  , 119.99  , 120.41  ],\n",
       "       [120.57  , 120.57  , 119.35  , 119.36  ],\n",
       "       [119.3903, 119.48  , 118.3503, 118.57  ],\n",
       "       [118.52  , 119.13  , 118.495 , 118.71  ],\n",
       "       [118.915 , 119.6   , 118.64  , 119.19  ],\n",
       "       [119.22  , 119.42  , 117.96  , 118.01  ],\n",
       "       [117.95  , 118.3361, 117.48  , 117.68  ]])"
      ]
     },
     "execution_count": 15,
     "metadata": {},
     "output_type": "execute_result"
    }
   ],
   "source": [
    "print (X_test[0].shape)\n",
    "X_test[0]"
   ]
  },
  {
   "cell_type": "code",
   "execution_count": 16,
   "metadata": {},
   "outputs": [
    {
     "name": "stdout",
     "output_type": "stream",
     "text": [
      "(30,)\n"
     ]
    },
    {
     "data": {
      "text/plain": [
       "array([118.79, 118.55, 118.93, 118.85, 117.81, 118.31, 118.65, 118.56,\n",
       "       118.67, 119.09, 118.83, 118.4 , 119.35, 121.65, 122.49, 120.98,\n",
       "       121.29, 121.46, 120.16, 120.77, 120.2 , 120.73, 119.68, 120.18,\n",
       "       120.33, 120.55, 121.11, 121.76, 122.79, 123.39])"
      ]
     },
     "execution_count": 16,
     "metadata": {},
     "output_type": "execute_result"
    }
   ],
   "source": [
    "print (y_test[0].shape)\n",
    "y_test[0]"
   ]
  },
  {
   "cell_type": "code",
   "execution_count": 17,
   "metadata": {},
   "outputs": [],
   "source": [
    "# make a prediction\n",
    "\n",
    "x_input = X_test[0].reshape((1, n_in, n_features))\n",
    "yhat = model.predict(x_input)"
   ]
  },
  {
   "cell_type": "code",
   "execution_count": 18,
   "metadata": {},
   "outputs": [
    {
     "name": "stdout",
     "output_type": "stream",
     "text": [
      "(30,)\n"
     ]
    },
    {
     "data": {
      "text/plain": [
       "array([[117.55981 , 117.97164 , 117.84043 , 116.73865 , 116.76366 ,\n",
       "        118.07057 , 116.97775 , 117.90622 , 117.992935, 118.63302 ,\n",
       "        118.34768 , 118.857216, 119.265785, 118.723465, 119.229805,\n",
       "        119.54427 , 119.77735 , 120.544945, 120.05347 , 120.49492 ,\n",
       "        120.001045, 120.53897 , 120.95416 , 121.19434 , 121.110855,\n",
       "        121.432076, 121.76469 , 121.85692 , 121.88855 , 121.50028 ]],\n",
       "      dtype=float32)"
      ]
     },
     "execution_count": 18,
     "metadata": {},
     "output_type": "execute_result"
    }
   ],
   "source": [
    "print (yhat[0].shape)\n",
    "yhat"
   ]
  },
  {
   "cell_type": "code",
   "execution_count": 19,
   "metadata": {},
   "outputs": [
    {
     "data": {
      "image/png": "[encoded data removed]",
      "text/plain": [
       "<Figure size 432x288 with 1 Axes>"
      ]
     },
     "metadata": {
      "needs_background": "light"
     },
     "output_type": "display_data"
    }
   ],
   "source": [
    "plt.plot(yhat[0], label='yhat')\n",
    "plt.plot(y_test[0], label='actual')\n",
    "plt.legend()\n",
    "plt.show()"
   ]
  },
  {
   "cell_type": "code",
   "execution_count": 20,
   "metadata": {},
   "outputs": [
    {
     "name": "stdout",
     "output_type": "stream",
     "text": [
      "Root Mean Squared Error: 1.5463336182845027\n"
     ]
    }
   ],
   "source": [
    "rmse = metrics.mean_squared_error(y_test[0], yhat[0])\n",
    "print ('Root Mean Squared Error:',rmse)"
   ]
  },
  {
   "cell_type": "markdown",
   "metadata": {},
   "source": [
    "# (Now) Working Example as of 28/02/20\n",
    "## Multi-variate, Multi-step Time Series Prediction w/ LSTM using SCALED data\n",
    "Everything is the same, except I want to standardize the input data using MinMaxScaler as I'm planning to add in a bunch of additional features that are of vastly different magnitudes. <br>I'll start by copying the supervised learning dataframe."
   ]
  },
  {
   "cell_type": "code",
   "execution_count": 21,
   "metadata": {},
   "outputs": [
    {
     "data": {
      "text/plain": [
       "(2456, 154)"
      ]
     },
     "execution_count": 21,
     "metadata": {},
     "output_type": "execute_result"
    }
   ],
   "source": [
    "data_test = data.copy()\n",
    "data_test.shape"
   ]
  },
  {
   "cell_type": "code",
   "execution_count": 22,
   "metadata": {},
   "outputs": [
    {
     "data": {
      "text/html": [
       "<div>\n",
       "<style scoped>\n",
       "    .dataframe tbody tr th:only-of-type {\n",
       "        vertical-align: middle;\n",
       "    }\n",
       "\n",
       "    .dataframe tbody tr th {\n",
       "        vertical-align: top;\n",
       "    }\n",
       "\n",
       "    .dataframe thead th {\n",
       "        text-align: right;\n",
       "    }\n",
       "</style>\n",
       "<table border=\"1\" class=\"dataframe\">\n",
       "  <thead>\n",
       "    <tr style=\"text-align: right;\">\n",
       "      <th></th>\n",
       "      <th>Open</th>\n",
       "      <th>High</th>\n",
       "      <th>Low</th>\n",
       "      <th>Close</th>\n",
       "      <th>Open(t-30)</th>\n",
       "      <th>High(t-30)</th>\n",
       "      <th>Low(t-30)</th>\n",
       "      <th>Close(t-30)</th>\n",
       "      <th>Open(t-29)</th>\n",
       "      <th>High(t-29)</th>\n",
       "      <th>...</th>\n",
       "      <th>Close(t+21)</th>\n",
       "      <th>Close(t+22)</th>\n",
       "      <th>Close(t+23)</th>\n",
       "      <th>Close(t+24)</th>\n",
       "      <th>Close(t+25)</th>\n",
       "      <th>Close(t+26)</th>\n",
       "      <th>Close(t+27)</th>\n",
       "      <th>Close(t+28)</th>\n",
       "      <th>Close(t+29)</th>\n",
       "      <th>Close(t+30)</th>\n",
       "    </tr>\n",
       "    <tr>\n",
       "      <th>Timestamp</th>\n",
       "      <th></th>\n",
       "      <th></th>\n",
       "      <th></th>\n",
       "      <th></th>\n",
       "      <th></th>\n",
       "      <th></th>\n",
       "      <th></th>\n",
       "      <th></th>\n",
       "      <th></th>\n",
       "      <th></th>\n",
       "      <th></th>\n",
       "      <th></th>\n",
       "      <th></th>\n",
       "      <th></th>\n",
       "      <th></th>\n",
       "      <th></th>\n",
       "      <th></th>\n",
       "      <th></th>\n",
       "      <th></th>\n",
       "      <th></th>\n",
       "      <th></th>\n",
       "    </tr>\n",
       "  </thead>\n",
       "  <tbody>\n",
       "    <tr>\n",
       "      <th>2010-02-17 00:00:00-05:00</th>\n",
       "      <td>42.3</td>\n",
       "      <td>42.62</td>\n",
       "      <td>42.09</td>\n",
       "      <td>42.37</td>\n",
       "      <td>45.08</td>\n",
       "      <td>45.3392</td>\n",
       "      <td>44.86</td>\n",
       "      <td>45.23</td>\n",
       "      <td>45.12</td>\n",
       "      <td>45.14</td>\n",
       "      <td>...</td>\n",
       "      <td>43.1789</td>\n",
       "      <td>43.18</td>\n",
       "      <td>43.41</td>\n",
       "      <td>43.445</td>\n",
       "      <td>43.3203</td>\n",
       "      <td>43.12</td>\n",
       "      <td>43.5</td>\n",
       "      <td>43.66</td>\n",
       "      <td>43.91</td>\n",
       "      <td>43.96</td>\n",
       "    </tr>\n",
       "  </tbody>\n",
       "</table>\n",
       "<p>1 rows × 154 columns</p>\n",
       "</div>"
      ],
      "text/plain": [
       "                           Open   High    Low  Close  Open(t-30)  High(t-30)  \\\n",
       "Timestamp                                                                      \n",
       "2010-02-17 00:00:00-05:00  42.3  42.62  42.09  42.37       45.08     45.3392   \n",
       "\n",
       "                           Low(t-30)  Close(t-30)  Open(t-29)  High(t-29)  \\\n",
       "Timestamp                                                                   \n",
       "2010-02-17 00:00:00-05:00      44.86        45.23       45.12       45.14   \n",
       "\n",
       "                           ...  Close(t+21)  Close(t+22)  Close(t+23)  \\\n",
       "Timestamp                  ...                                          \n",
       "2010-02-17 00:00:00-05:00  ...      43.1789        43.18        43.41   \n",
       "\n",
       "                           Close(t+24)  Close(t+25)  Close(t+26)  Close(t+27)  \\\n",
       "Timestamp                                                                       \n",
       "2010-02-17 00:00:00-05:00       43.445      43.3203        43.12         43.5   \n",
       "\n",
       "                           Close(t+28)  Close(t+29)  Close(t+30)  \n",
       "Timestamp                                                         \n",
       "2010-02-17 00:00:00-05:00        43.66        43.91        43.96  \n",
       "\n",
       "[1 rows x 154 columns]"
      ]
     },
     "execution_count": 22,
     "metadata": {},
     "output_type": "execute_result"
    }
   ],
   "source": [
    "#Checking what it looks like\n",
    "\n",
    "data_test.head(1)"
   ]
  },
  {
   "cell_type": "code",
   "execution_count": 23,
   "metadata": {},
   "outputs": [
    {
     "name": "stdout",
     "output_type": "stream",
     "text": [
      "Number of observations in: 120\n",
      "Number of predictions out: 30\n",
      "\n",
      "Shape of X: (2456, 120)\n",
      "Shape of y: (2456, 30)\n"
     ]
    }
   ],
   "source": [
    "#breaking down the problem one level deeper than above\n",
    "\n",
    "n_features_in = 4\n",
    "n_features_out = 1\n",
    "n_lags_in = 30\n",
    "n_lags_out = 30\n",
    "\n",
    "n_obs_in = (n_features_in * n_lags_in)\n",
    "n_obs_out = (n_features_out * n_lags_out)\n",
    "print ('Number of observations in:',n_obs_in)\n",
    "print ('Number of predictions out:', n_obs_out)\n",
    "\n",
    "# Creating X, y from data_test\n",
    "X = data_test.values[:, :n_obs_in]\n",
    "y = data_test.values[:, -n_obs_out:]\n",
    "print ('\\nShape of X:',X.shape)\n",
    "print ('Shape of y:', y.shape)"
   ]
  },
  {
   "cell_type": "code",
   "execution_count": 24,
   "metadata": {},
   "outputs": [
    {
     "name": "stdout",
     "output_type": "stream",
     "text": [
      "Open\n",
      "High\n",
      "Low\n",
      "Close\n",
      "Open(t-30)\n",
      "High(t-30)\n",
      "Low(t-30)\n",
      "Close(t-30)\n",
      "Open(t-29)\n",
      "High(t-29)\n",
      "Low(t-29)\n",
      "Close(t-29)\n",
      "Open(t-28)\n",
      "High(t-28)\n",
      "Low(t-28)\n",
      "Close(t-28)\n",
      "Open(t-27)\n",
      "High(t-27)\n",
      "Low(t-27)\n",
      "Close(t-27)\n",
      "Open(t-26)\n",
      "High(t-26)\n",
      "Low(t-26)\n",
      "Close(t-26)\n",
      "Open(t-25)\n",
      "High(t-25)\n",
      "Low(t-25)\n",
      "Close(t-25)\n",
      "Open(t-24)\n",
      "High(t-24)\n",
      "Low(t-24)\n",
      "Close(t-24)\n",
      "Open(t-23)\n",
      "High(t-23)\n",
      "Low(t-23)\n",
      "Close(t-23)\n",
      "Open(t-22)\n",
      "High(t-22)\n",
      "Low(t-22)\n",
      "Close(t-22)\n",
      "Open(t-21)\n",
      "High(t-21)\n",
      "Low(t-21)\n",
      "Close(t-21)\n",
      "Open(t-20)\n",
      "High(t-20)\n",
      "Low(t-20)\n",
      "Close(t-20)\n",
      "Open(t-19)\n",
      "High(t-19)\n",
      "Low(t-19)\n",
      "Close(t-19)\n",
      "Open(t-18)\n",
      "High(t-18)\n",
      "Low(t-18)\n",
      "Close(t-18)\n",
      "Open(t-17)\n",
      "High(t-17)\n",
      "Low(t-17)\n",
      "Close(t-17)\n",
      "Open(t-16)\n",
      "High(t-16)\n",
      "Low(t-16)\n",
      "Close(t-16)\n",
      "Open(t-15)\n",
      "High(t-15)\n",
      "Low(t-15)\n",
      "Close(t-15)\n",
      "Open(t-14)\n",
      "High(t-14)\n",
      "Low(t-14)\n",
      "Close(t-14)\n",
      "Open(t-13)\n",
      "High(t-13)\n",
      "Low(t-13)\n",
      "Close(t-13)\n",
      "Open(t-12)\n",
      "High(t-12)\n",
      "Low(t-12)\n",
      "Close(t-12)\n",
      "Open(t-11)\n",
      "High(t-11)\n",
      "Low(t-11)\n",
      "Close(t-11)\n",
      "Open(t-10)\n",
      "High(t-10)\n",
      "Low(t-10)\n",
      "Close(t-10)\n",
      "Open(t-9)\n",
      "High(t-9)\n",
      "Low(t-9)\n",
      "Close(t-9)\n",
      "Open(t-8)\n",
      "High(t-8)\n",
      "Low(t-8)\n",
      "Close(t-8)\n",
      "Open(t-7)\n",
      "High(t-7)\n",
      "Low(t-7)\n",
      "Close(t-7)\n",
      "Open(t-6)\n",
      "High(t-6)\n",
      "Low(t-6)\n",
      "Close(t-6)\n",
      "Open(t-5)\n",
      "High(t-5)\n",
      "Low(t-5)\n",
      "Close(t-5)\n",
      "Open(t-4)\n",
      "High(t-4)\n",
      "Low(t-4)\n",
      "Close(t-4)\n",
      "Open(t-3)\n",
      "High(t-3)\n",
      "Low(t-3)\n",
      "Close(t-3)\n",
      "Open(t-2)\n",
      "High(t-2)\n",
      "Low(t-2)\n",
      "Close(t-2)\n"
     ]
    }
   ],
   "source": [
    "#Just checking which columns landed where...\n",
    "\n",
    "if True:\n",
    "    for i in data_test.columns[:n_obs_in]:\n",
    "        print (i)"
   ]
  },
  {
   "cell_type": "code",
   "execution_count": 25,
   "metadata": {},
   "outputs": [],
   "source": [
    "#Just checking which columns landed where...\n",
    "\n",
    "if False:\n",
    "    for i in data_test.columns[-n_obs_out:]:\n",
    "        print (i)"
   ]
  },
  {
   "cell_type": "code",
   "execution_count": 26,
   "metadata": {},
   "outputs": [],
   "source": [
    "#Initializing a separate scaler for X and y\n",
    "\n",
    "from sklearn.preprocessing import MinMaxScaler\n",
    "\n",
    "X_scaler = MinMaxScaler(feature_range=(0,1)).fit(X)\n",
    "y_scaler = MinMaxScaler(feature_range=(0,1)).fit(y)\n",
    "\n",
    "#X_scaled = X_scaler.fit_transform(X)\n",
    "#y_scaled = y_scaler.fit_transform(y)\n",
    "\n",
    "#print (X_scaled.shape, y_scaled.shape)"
   ]
  },
  {
   "cell_type": "code",
   "execution_count": 27,
   "metadata": {},
   "outputs": [
    {
     "name": "stdout",
     "output_type": "stream",
     "text": [
      "Shape of splits:\n",
      "(1732, 120) (1732, 30) (724, 120) (724, 30)\n"
     ]
    }
   ],
   "source": [
    "#Split X, y into X_train/X_test and y_train and y_test\n",
    "\n",
    "n_train = 1732 # splits on dates as above except by index\n",
    "n_features = 4\n",
    "n_lag = 30\n",
    "n_in, n_out = 30, 30\n",
    "\n",
    "# split X, y into train/test\n",
    "X_train, y_train = X[:n_train, :], y[:n_train, :]\n",
    "X_test, y_test = X[n_train:, :], y[n_train:, :]\n",
    "print('Shape of splits:')\n",
    "print(X_train.shape, y_train.shape, X_test.shape, y_test.shape)"
   ]
  },
  {
   "cell_type": "code",
   "execution_count": 28,
   "metadata": {},
   "outputs": [],
   "source": [
    "# Using the X,y scalers, scale the data\n",
    "\n",
    "X_train, y_train = X_scaler.transform(X_train), y_scaler.transform(y_train)\n",
    "X_test, y_test = X_scaler.transform(X_test), y_scaler.transform(y_test)"
   ]
  },
  {
   "cell_type": "code",
   "execution_count": 29,
   "metadata": {},
   "outputs": [],
   "source": [
    "#Just checking what the scaling looks like\n",
    "\n",
    "if False:\n",
    "    print (X_train[0])"
   ]
  },
  {
   "cell_type": "code",
   "execution_count": 30,
   "metadata": {},
   "outputs": [
    {
     "name": "stdout",
     "output_type": "stream",
     "text": [
      "Re-shaped for LSTM:\n",
      "(1732, 30, 4) (1732, 30) (724, 30, 4) (724, 30)\n"
     ]
    }
   ],
   "source": [
    "# reshape input to be 3D [samples, timesteps, features] for LSTM\n",
    "\n",
    "X_train = X_train.reshape((X_train.shape[0], n_lag, n_features))\n",
    "X_test = X_test.reshape((X_test.shape[0], n_lag, n_features))\n",
    "print('Re-shaped for LSTM:')\n",
    "print(X_train.shape, y_train.shape, X_test.shape, y_test.shape)"
   ]
  },
  {
   "cell_type": "markdown",
   "metadata": {},
   "source": [
    "Same shape as example above. We'll initialize a new model with the same architecture as above and train it."
   ]
  },
  {
   "cell_type": "code",
   "execution_count": 31,
   "metadata": {},
   "outputs": [],
   "source": [
    "model_test = Sequential()\n",
    "model_test.add(LSTM(100, activation='relu', return_sequences=True, input_shape=((X_train.shape[1]), X_train.shape[2])))\n",
    "model_test.add(LSTM(100, activation='relu'))\n",
    "model_test.add(Dense(n_out))\n",
    "model_test.compile(optimizer='adam', loss='mae')"
   ]
  },
  {
   "cell_type": "code",
   "execution_count": 32,
   "metadata": {},
   "outputs": [
    {
     "name": "stdout",
     "output_type": "stream",
     "text": [
      "Train on 1732 samples, validate on 724 samples\n",
      "Epoch 1/20\n",
      "1732/1732 [==============================] - 5s 3ms/step - loss: 0.0345 - val_loss: 0.1673\n",
      "Epoch 2/20\n",
      "1732/1732 [==============================] - 4s 2ms/step - loss: 0.0613 - val_loss: 0.0431\n",
      "Epoch 3/20\n",
      "1732/1732 [==============================] - 4s 2ms/step - loss: 0.0640 - val_loss: 0.0630\n",
      "Epoch 4/20\n",
      "1732/1732 [==============================] - 4s 2ms/step - loss: 0.0571 - val_loss: 0.0816\n",
      "Epoch 5/20\n",
      "1732/1732 [==============================] - 5s 3ms/step - loss: 0.0490 - val_loss: 0.0759\n",
      "Epoch 6/20\n",
      "1732/1732 [==============================] - 4s 2ms/step - loss: 0.0333 - val_loss: 0.0767\n",
      "Epoch 7/20\n",
      "1732/1732 [==============================] - 4s 2ms/step - loss: 0.0297 - val_loss: 0.0944\n",
      "Epoch 8/20\n",
      "1732/1732 [==============================] - 4s 2ms/step - loss: 0.0268 - val_loss: 0.1083\n",
      "Epoch 9/20\n",
      "1732/1732 [==============================] - 4s 2ms/step - loss: 0.0280 - val_loss: 0.1209\n",
      "Epoch 10/20\n",
      "1732/1732 [==============================] - 4s 2ms/step - loss: 0.0276 - val_loss: 0.1100\n",
      "Epoch 11/20\n",
      "1732/1732 [==============================] - 4s 2ms/step - loss: 0.0246 - val_loss: 0.1174\n",
      "Epoch 12/20\n",
      "1732/1732 [==============================] - 7s 4ms/step - loss: 0.0239 - val_loss: 0.1165\n",
      "Epoch 13/20\n",
      "1732/1732 [==============================] - 4s 2ms/step - loss: 0.0211 - val_loss: 0.1156\n",
      "Epoch 14/20\n",
      "1732/1732 [==============================] - 4s 2ms/step - loss: 0.0210 - val_loss: 0.1150\n",
      "Epoch 15/20\n",
      "1732/1732 [==============================] - 4s 2ms/step - loss: 0.0220 - val_loss: 0.1176\n",
      "Epoch 16/20\n",
      "1732/1732 [==============================] - 4s 2ms/step - loss: 0.0206 - val_loss: 0.1213\n",
      "Epoch 17/20\n",
      "1732/1732 [==============================] - 4s 2ms/step - loss: 0.0208 - val_loss: 0.1237\n",
      "Epoch 18/20\n",
      "1732/1732 [==============================] - 4s 2ms/step - loss: 0.0188 - val_loss: 0.1232\n",
      "Epoch 19/20\n",
      "1732/1732 [==============================] - 4s 2ms/step - loss: 0.0196 - val_loss: 0.1299\n",
      "Epoch 20/20\n",
      "1732/1732 [==============================] - 5s 3ms/step - loss: 0.0192 - val_loss: 0.1249\n"
     ]
    }
   ],
   "source": [
    "history_test = model_test.fit(X_train, y_train, \n",
    "                    epochs=20, batch_size=30, \n",
    "                    validation_data=(X_test, y_test), \n",
    "                    verbose=1, shuffle=False)"
   ]
  },
  {
   "cell_type": "code",
   "execution_count": 33,
   "metadata": {},
   "outputs": [
    {
     "data": {
      "image/png": "[encoded data removed]",
      "text/plain": [
       "<Figure size 432x288 with 1 Axes>"
      ]
     },
     "metadata": {
      "needs_background": "light"
     },
     "output_type": "display_data"
    }
   ],
   "source": [
    "plt.plot(history_test.history['loss'], label='train loss')\n",
    "plt.plot(history_test.history['val_loss'], label='val loss')\n",
    "plt.legend()\n",
    "plt.show()"
   ]
  },
  {
   "cell_type": "markdown",
   "metadata": {},
   "source": [
    "Model performance is again poor but this isn't relevant now. I'll grid search a better architecture later. I'll first try and make a single prediction from X_test[0]"
   ]
  },
  {
   "cell_type": "code",
   "execution_count": 34,
   "metadata": {},
   "outputs": [
    {
     "data": {
      "text/plain": [
       "(30, 4)"
      ]
     },
     "execution_count": 34,
     "metadata": {},
     "output_type": "execute_result"
    }
   ],
   "source": [
    "# checking the shape of X_test[0] for a single prediction\n",
    "\n",
    "X_test[0].shape"
   ]
  },
  {
   "cell_type": "code",
   "execution_count": 35,
   "metadata": {},
   "outputs": [
    {
     "name": "stdout",
     "output_type": "stream",
     "text": [
      "x_input shape:  (1, 30, 4)\n"
     ]
    }
   ],
   "source": [
    "# reshape X_test[0] into 3D\n",
    "\n",
    "x_input = X_test[0].reshape((1, n_lag, n_features))\n",
    "print ('x_input shape: ',x_input.shape)\n",
    "\n",
    "# make the prediction\n",
    "yhat = model_test.predict(x_input)"
   ]
  },
  {
   "cell_type": "code",
   "execution_count": 36,
   "metadata": {},
   "outputs": [
    {
     "name": "stdout",
     "output_type": "stream",
     "text": [
      "(1, 30)\n"
     ]
    },
    {
     "data": {
      "text/plain": [
       "array([[0.4818532 , 0.4782744 , 0.47758964, 0.48086113, 0.4838239 ,\n",
       "        0.48138437, 0.48056316, 0.47597712, 0.48074657, 0.4812854 ,\n",
       "        0.47459772, 0.47710896, 0.4798409 , 0.47248513, 0.4741606 ,\n",
       "        0.47355908, 0.47065055, 0.47075257, 0.47390115, 0.46902585,\n",
       "        0.46966043, 0.4696836 , 0.4726638 , 0.47087693, 0.46903178,\n",
       "        0.47339305, 0.46730208, 0.46715066, 0.4646973 , 0.4655745 ]],\n",
       "      dtype=float32)"
      ]
     },
     "execution_count": 36,
     "metadata": {},
     "output_type": "execute_result"
    }
   ],
   "source": [
    "# checking the shape of yhat\n",
    "print (yhat.shape)\n",
    "yhat"
   ]
  },
  {
   "cell_type": "code",
   "execution_count": 37,
   "metadata": {},
   "outputs": [
    {
     "data": {
      "text/plain": [
       "array([[122.06612 , 121.46878 , 121.354485, 121.900536, 122.58087 ,\n",
       "        122.22643 , 122.08974 , 121.3788  , 122.172195, 122.45256 ,\n",
       "        121.34252 , 121.759346, 122.2128  , 120.991875, 121.26997 ,\n",
       "        121.22924 , 120.97972 , 120.9966  , 121.51746 , 120.710945,\n",
       "        120.815926, 120.819756, 121.312775, 121.017166, 120.71193 ,\n",
       "        121.43341 , 120.628204, 120.68847 , 120.41777 , 120.583565]],\n",
       "      dtype=float32)"
      ]
     },
     "execution_count": 37,
     "metadata": {},
     "output_type": "execute_result"
    }
   ],
   "source": [
    "#invert the scaling for yhat using the y_scaler from above\n",
    "\n",
    "inv_yhat = y_scaler.inverse_transform(yhat)\n",
    "inv_yhat"
   ]
  },
  {
   "cell_type": "code",
   "execution_count": 38,
   "metadata": {},
   "outputs": [
    {
     "name": "stdout",
     "output_type": "stream",
     "text": [
      "(30,)\n"
     ]
    },
    {
     "data": {
      "text/plain": [
       "array([0.46222515, 0.46078725, 0.46306393, 0.46258463, 0.45517863,\n",
       "       0.45785521, 0.45989787, 0.45903216, 0.45969342, 0.46102687,\n",
       "       0.45946044, 0.4568698 , 0.4625933 , 0.4764502 , 0.48151098,\n",
       "       0.47205643, 0.47252614, 0.47355377, 0.46569546, 0.46938282,\n",
       "       0.46593725, 0.46914103, 0.46279393, 0.46581636, 0.46672309,\n",
       "       0.46805295, 0.47022115, 0.4736491 , 0.47910593, 0.48262454])"
      ]
     },
     "execution_count": 38,
     "metadata": {},
     "output_type": "execute_result"
    }
   ],
   "source": [
    "#checking the shape of y_test[0]\n",
    "\n",
    "print (y_test[0].shape)\n",
    "y_test[0]"
   ]
  },
  {
   "cell_type": "code",
   "execution_count": 39,
   "metadata": {},
   "outputs": [
    {
     "data": {
      "text/plain": [
       "(1, 30)"
      ]
     },
     "execution_count": 39,
     "metadata": {},
     "output_type": "execute_result"
    }
   ],
   "source": [
    "#reshape y_test\n",
    "\n",
    "inv_y = y_test[0].reshape(1, y_test[0].shape[0])\n",
    "inv_y.shape"
   ]
  },
  {
   "cell_type": "code",
   "execution_count": 40,
   "metadata": {},
   "outputs": [
    {
     "data": {
      "text/plain": [
       "array([[118.79, 118.55, 118.93, 118.85, 117.81, 118.31, 118.65, 118.56,\n",
       "        118.67, 119.09, 118.83, 118.4 , 119.35, 121.65, 122.49, 120.98,\n",
       "        121.29, 121.46, 120.16, 120.77, 120.2 , 120.73, 119.68, 120.18,\n",
       "        120.33, 120.55, 121.11, 121.76, 122.79, 123.39]])"
      ]
     },
     "execution_count": 40,
     "metadata": {},
     "output_type": "execute_result"
    }
   ],
   "source": [
    "#invert the scaling for y_test\n",
    "\n",
    "inv_y = y_scaler.inverse_transform(inv_y)\n",
    "inv_y"
   ]
  },
  {
   "cell_type": "code",
   "execution_count": 41,
   "metadata": {},
   "outputs": [
    {
     "data": {
      "image/png": "[encoded data removed]",
      "text/plain": [
       "<Figure size 432x288 with 1 Axes>"
      ]
     },
     "metadata": {
      "needs_background": "light"
     },
     "output_type": "display_data"
    }
   ],
   "source": [
    "#plot inv_yhat and inv_y\n",
    "\n",
    "plt.plot(range(121, 151), inv_yhat[0], label='yhat')\n",
    "plt.plot(range(121, 151), inv_y[0], label='actual')\n",
    "plt.legend()\n",
    "plt.show()"
   ]
  },
  {
   "cell_type": "code",
   "execution_count": 42,
   "metadata": {},
   "outputs": [
    {
     "name": "stdout",
     "output_type": "stream",
     "text": [
      "Root Mean Squared Error: 5.512808478367576\n"
     ]
    }
   ],
   "source": [
    "rmse = metrics.mean_squared_error(inv_y, inv_yhat)\n",
    "print ('Root Mean Squared Error:',rmse)"
   ]
  },
  {
   "cell_type": "markdown",
   "metadata": {},
   "source": [
    "Predict the entire X_test in one go"
   ]
  },
  {
   "cell_type": "code",
   "execution_count": 43,
   "metadata": {},
   "outputs": [
    {
     "name": "stdout",
     "output_type": "stream",
     "text": [
      "(724, 30)\n"
     ]
    }
   ],
   "source": [
    "#make the prediction\n",
    "yhat_entire = model_test.predict(X_test)\n",
    "\n",
    "#print the shape\n",
    "print (yhat_entire.shape)"
   ]
  },
  {
   "cell_type": "code",
   "execution_count": 44,
   "metadata": {},
   "outputs": [
    {
     "name": "stdout",
     "output_type": "stream",
     "text": [
      "inv_yhat_entire shape: (724, 30)\n"
     ]
    }
   ],
   "source": [
    "#invert scaling for yhat using y_scaler\n",
    "inv_yhat_entire = y_scaler.inverse_transform(yhat_entire)\n",
    "\n",
    "print ('inv_yhat_entire shape:',inv_yhat_entire.shape)"
   ]
  },
  {
   "cell_type": "code",
   "execution_count": 45,
   "metadata": {},
   "outputs": [
    {
     "data": {
      "text/plain": [
       "array([122.06612 , 121.46877 , 121.35449 , 121.900536, 122.58087 ,\n",
       "       122.22643 , 122.08974 , 121.37879 , 122.1722  , 122.45256 ,\n",
       "       121.34253 , 121.759346, 122.2128  , 120.99186 , 121.26997 ,\n",
       "       121.22924 , 120.97973 , 120.996605, 121.51746 , 120.710945,\n",
       "       120.815926, 120.819756, 121.31276 , 121.01717 , 120.71193 ,\n",
       "       121.43341 , 120.6282  , 120.68846 , 120.41777 , 120.58357 ],\n",
       "      dtype=float32)"
      ]
     },
     "execution_count": 45,
     "metadata": {},
     "output_type": "execute_result"
    }
   ],
   "source": [
    "#prediction for X_test[0]\n",
    "\n",
    "inv_yhat_entire[0]"
   ]
  },
  {
   "cell_type": "markdown",
   "metadata": {},
   "source": [
    "Comparing this to the prediction above, I can see they are the same :-)"
   ]
  },
  {
   "cell_type": "code",
   "execution_count": 46,
   "metadata": {},
   "outputs": [],
   "source": [
    "#slicing on [:, 0] means we're taking the first day ((t+1) column) of each prediction in order to draw the line\n",
    "\n",
    "inv_yhat = inv_yhat_entire[:,0]"
   ]
  },
  {
   "cell_type": "code",
   "execution_count": 47,
   "metadata": {},
   "outputs": [],
   "source": [
    "#invert y_test. we are slicing as above\n",
    "\n",
    "inv_y = y_scaler.inverse_transform(y_test)\n",
    "inv_y = inv_y[: ,0]"
   ]
  },
  {
   "cell_type": "code",
   "execution_count": 48,
   "metadata": {},
   "outputs": [
    {
     "data": {
      "image/png": "[encoded data removed]",
      "text/plain": [
       "<Figure size 432x288 with 1 Axes>"
      ]
     },
     "metadata": {
      "needs_background": "light"
     },
     "output_type": "display_data"
    }
   ],
   "source": [
    "plt.plot(inv_yhat, label='yhat')\n",
    "plt.plot(inv_y, label='actual')\n",
    "plt.legend()\n",
    "plt.show()"
   ]
  },
  {
   "cell_type": "code",
   "execution_count": 49,
   "metadata": {},
   "outputs": [
    {
     "name": "stdout",
     "output_type": "stream",
     "text": [
      "Root Mean Squared Error: 590.6534095478053\n"
     ]
    }
   ],
   "source": [
    "rmse = metrics.mean_squared_error(inv_y, inv_yhat)\n",
    "print ('Root Mean Squared Error:',rmse)"
   ]
  }
 ],
 "metadata": {
  "kernelspec": {
   "display_name": "Python 3",
   "language": "python",
   "name": "python3"
  },
  "language_info": {
   "codemirror_mode": {
    "name": "ipython",
    "version": 3
   },
   "file_extension": ".py",
   "mimetype": "text/x-python",
   "name": "python",
   "nbconvert_exporter": "python",
   "pygments_lexer": "ipython3",
   "version": "3.6.9"
  }
 },
 "nbformat": 4,
 "nbformat_minor": 2
}
