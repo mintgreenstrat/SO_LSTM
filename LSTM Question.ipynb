{
 "cells": [
  {
   "cell_type": "markdown",
   "metadata": {},
   "source": [
    "# Working Example\n",
    "## Multi-variate, Multi-step Time Series Prediction w/ LSTM"
   ]
  },
  {
   "cell_type": "markdown",
   "metadata": {},
   "source": [
    "Import Modules"
   ]
  },
  {
   "cell_type": "code",
   "execution_count": 107,
   "metadata": {},
   "outputs": [],
   "source": [
    "import pandas as pd\n",
    "import numpy as np\n",
    "import matplotlib.pyplot as plt\n",
    "from sklearn import metrics\n",
    "import tqdm\n",
    "%matplotlib inline"
   ]
  },
  {
   "cell_type": "markdown",
   "metadata": {},
   "source": [
    "Load Data"
   ]
  },
  {
   "cell_type": "code",
   "execution_count": 108,
   "metadata": {},
   "outputs": [
    {
     "name": "stdout",
     "output_type": "stream",
     "text": [
      "(5031, 16) \n",
      "\n",
      "                             Open    High     Low   Close   Volume  SMA_10  \\\n",
      "Timestamp                                                                    \n",
      "2000-01-03 00:00:00-05:00  19.500  19.500  18.750  18.813   580000     NaN   \n",
      "2000-01-04 00:00:00-05:00  18.813  18.969   9.000   9.188  1528798     NaN   \n",
      "2000-01-05 00:00:00-05:00   9.250  19.188   9.188  19.063   700200     NaN   \n",
      "\n",
      "                           SMA_50  EMA_10  EMA_50         RSI  ROC  MACD_Line  \\\n",
      "Timestamp                                                                       \n",
      "2000-01-03 00:00:00-05:00     NaN     NaN     NaN  100.000000  NaN        NaN   \n",
      "2000-01-04 00:00:00-05:00     NaN     NaN     NaN    0.000000  NaN        NaN   \n",
      "2000-01-05 00:00:00-05:00     NaN     NaN     NaN   52.491694  NaN        NaN   \n",
      "\n",
      "                           MACD_Diff  MACD_Sig  WO  ATR  \n",
      "Timestamp                                                \n",
      "2000-01-03 00:00:00-05:00        NaN       NaN NaN  0.0  \n",
      "2000-01-04 00:00:00-05:00        NaN       NaN NaN  0.0  \n",
      "2000-01-05 00:00:00-05:00        NaN       NaN NaN  0.0  \n"
     ]
    }
   ],
   "source": [
    "if True:\n",
    "    keep_col = list(range(1,18))\n",
    "\n",
    "    df_day = pd.read_csv('Clean Data/ECL_Clean_Day.csv', \n",
    "                         infer_datetime_format=True,\n",
    "                         parse_dates=['Timestamp'], \n",
    "                         index_col=['Timestamp'],\n",
    "                         usecols = keep_col,\n",
    "                         date_parser=lambda col: pd.to_datetime(col, utc=True).tz_convert('America/New_York'))\n",
    "\n",
    "    #df_day.dtypes\n",
    "    print (df_day.shape,'\\n')\n",
    "    print (df_day.head(3))"
   ]
  },
  {
   "cell_type": "markdown",
   "metadata": {},
   "source": [
    "Slice the data to get the 10 most recent years (2010 through 2019)"
   ]
  },
  {
   "cell_type": "code",
   "execution_count": 109,
   "metadata": {},
   "outputs": [
    {
     "data": {
      "text/plain": [
       "(2516, 16)"
      ]
     },
     "execution_count": 109,
     "metadata": {},
     "output_type": "execute_result"
    }
   ],
   "source": [
    "# create 10 years of data from 2019 - 2010\n",
    "\n",
    "day_data = df_day[df_day.index >= '2010-01-01']\n",
    "day_data.shape"
   ]
  },
  {
   "cell_type": "markdown",
   "metadata": {},
   "source": [
    "Slice the data for the first 5 columns (Open, High, Low, Close, Volume) and then rearrange with Close price as the last column."
   ]
  },
  {
   "cell_type": "code",
   "execution_count": 110,
   "metadata": {},
   "outputs": [
    {
     "name": "stdout",
     "output_type": "stream",
     "text": [
      "(2516, 4)\n"
     ]
    },
    {
     "data": {
      "text/html": [
       "<div>\n",
       "<style scoped>\n",
       "    .dataframe tbody tr th:only-of-type {\n",
       "        vertical-align: middle;\n",
       "    }\n",
       "\n",
       "    .dataframe tbody tr th {\n",
       "        vertical-align: top;\n",
       "    }\n",
       "\n",
       "    .dataframe thead th {\n",
       "        text-align: right;\n",
       "    }\n",
       "</style>\n",
       "<table border=\"1\" class=\"dataframe\">\n",
       "  <thead>\n",
       "    <tr style=\"text-align: right;\">\n",
       "      <th></th>\n",
       "      <th>Open</th>\n",
       "      <th>High</th>\n",
       "      <th>Low</th>\n",
       "      <th>Close</th>\n",
       "    </tr>\n",
       "    <tr>\n",
       "      <th>Timestamp</th>\n",
       "      <th></th>\n",
       "      <th></th>\n",
       "      <th></th>\n",
       "      <th></th>\n",
       "    </tr>\n",
       "  </thead>\n",
       "  <tbody>\n",
       "    <tr>\n",
       "      <th>2010-01-04 00:00:00-05:00</th>\n",
       "      <td>45.08</td>\n",
       "      <td>45.3392</td>\n",
       "      <td>44.86</td>\n",
       "      <td>45.23</td>\n",
       "    </tr>\n",
       "    <tr>\n",
       "      <th>2010-01-05 00:00:00-05:00</th>\n",
       "      <td>45.12</td>\n",
       "      <td>45.1400</td>\n",
       "      <td>44.31</td>\n",
       "      <td>44.51</td>\n",
       "    </tr>\n",
       "    <tr>\n",
       "      <th>2010-01-06 00:00:00-05:00</th>\n",
       "      <td>44.49</td>\n",
       "      <td>44.8500</td>\n",
       "      <td>44.15</td>\n",
       "      <td>44.41</td>\n",
       "    </tr>\n",
       "  </tbody>\n",
       "</table>\n",
       "</div>"
      ],
      "text/plain": [
       "                            Open     High    Low  Close\n",
       "Timestamp                                              \n",
       "2010-01-04 00:00:00-05:00  45.08  45.3392  44.86  45.23\n",
       "2010-01-05 00:00:00-05:00  45.12  45.1400  44.31  44.51\n",
       "2010-01-06 00:00:00-05:00  44.49  44.8500  44.15  44.41"
      ]
     },
     "execution_count": 110,
     "metadata": {},
     "output_type": "execute_result"
    }
   ],
   "source": [
    "#slice for the first 4 cols only\n",
    "data = day_data.loc[:,'Open':'Close']\n",
    "\n",
    "#rearrange column order\n",
    "data = data[['Open', 'High', 'Low', 'Close']]\n",
    "print (data.shape)\n",
    "data.head(3)"
   ]
  },
  {
   "cell_type": "markdown",
   "metadata": {},
   "source": [
    "Function borrowed from Jason Brownlee's amazing website: [www.machinelearningmastery.com]"
   ]
  },
  {
   "cell_type": "code",
   "execution_count": 111,
   "metadata": {},
   "outputs": [],
   "source": [
    "#from: machinelearningmastery.com/blog/\n",
    "\n",
    "def time_series_to_supervised(data, n_lag=1, n_fut=1, selLag=None, selFut=None, dropnan=True):\n",
    "    \"\"\"\n",
    "    Converts a time series to a supervised learning data set by adding time-shifted prior and future period\n",
    "    data as input or output (i.e., target result) columns for each period\n",
    "    :param data:  a series of periodic attributes as a list or NumPy array\n",
    "    :param n_lag: number of PRIOR periods to lag as input (X); generates: Xa(t-1), Xa(t-2); min= 0 --> nothing lagged\n",
    "    :param n_fut: number of FUTURE periods to add as target output (y); generates Yout(t+1); min= 0 --> no future periods\n",
    "    :param selLag:  only copy these specific PRIOR period attributes; default= None; EX: ['Xa', 'Xb' ]\n",
    "    :param selFut:  only copy these specific FUTURE period attributes; default= None; EX: ['rslt', 'xx']\n",
    "    :param dropnan: True= drop rows with NaN values; default= True\n",
    "    :return: a Pandas DataFrame of time series data organized for supervised learning\n",
    "    NOTES:\n",
    "    (1) The current period's data is always included in the output.\n",
    "    (2) A suffix is added to the original column names to indicate a relative time reference: e.g., (t) is the current\n",
    "        period; (t-2) is from two periods in the past; (t+1) is from the next period\n",
    "    (3) This is an extension of Jason Brownlee's series_to_supervised() function, customized for MFI use\n",
    "    \"\"\"\n",
    "    n_vars = 1 if type(data) is list else data.shape[1]\n",
    "    df = pd.DataFrame(data)\n",
    "    origNames = df.columns\n",
    "    cols, names = list(), list()\n",
    "    # include all current period attributes\n",
    "    cols.append(df.shift(0))\n",
    "    names += [('%s' % origNames[j]) for j in range(n_vars)]\n",
    " \n",
    "    # lag any past period attributes (t-n_lag,...,t-1)\n",
    "    n_lag = max(0, n_lag)  # force valid number of lag periods\n",
    "    for i in range(n_lag, 0, -1):\n",
    "        suffix= '(t-%d)' % i\n",
    "        if (None == selLag):   # copy all attributes from PRIOR periods?\n",
    "            cols.append(df.shift(i))\n",
    "            names += [('%s%s' % (origNames[j], suffix)) for j in range(n_vars)]\n",
    "        else:\n",
    "            for var in (selLag):\n",
    "                cols.append(df[var].shift(i))\n",
    "                names+= [('%s%s' % (var, suffix))]\n",
    " \n",
    "    # include future period attributes (t+1,...,t+n_fut)\n",
    "    n_fut = max(n_fut, 0)  # force valid number of future periods to shift back\n",
    "    for i in range(1, n_fut + 1):\n",
    "        suffix= '(t+%d)' % i\n",
    "        if (None == selFut):  # copy all attributes from future periods?\n",
    "            cols.append(df.shift(-i))\n",
    "            names += [('%s%s' % (origNames[j], suffix)) for j in range(n_vars)]\n",
    "        else:  # copy only selected future attributes\n",
    "            for var in (selFut):\n",
    "                cols.append(df[var].shift(-i))\n",
    "                names += [('%s%s' % (var, suffix))]\n",
    "    # combine everything\n",
    "    agg = pd.concat(cols, axis=1)\n",
    "    agg.columns = names\n",
    "    # drop rows with NaN values introduced by lagging\n",
    "    if dropnan:\n",
    "        agg.dropna(inplace=True)\n",
    "    return agg"
   ]
  },
  {
   "cell_type": "markdown",
   "metadata": {},
   "source": [
    "Problem Framing:\n",
    "* Multivariate (Open, High, Low, Close, Volume)\n",
    "* Univariate, multistep output (Close)\n",
    "* Predict the next 30 days Close price using the previous 30 days\n",
    "\n",
    "Therefore:\n",
    "* n_in = 30\n",
    "* n_out = 30\n",
    "* n_features = 4\n",
    "\n",
    "Rerrange the data to a supervised learning problem using the `time_series_to_supervised` function."
   ]
  },
  {
   "cell_type": "code",
   "execution_count": 112,
   "metadata": {},
   "outputs": [],
   "source": [
    "data = time_series_to_supervised(data, n_lag=30, n_fut=30, selFut=['Close'])"
   ]
  },
  {
   "cell_type": "markdown",
   "metadata": {},
   "source": [
    "As expected, we end up with 30 * 4 + 30 * 1 + 4 = 154 columns. That splits as:\n",
    "* 30 x 4 = n_in x n_features (in)\n",
    "* 30 x 4 = n_out x n_features (out)\n",
    "* 1 x 4 = n_features a time t"
   ]
  },
  {
   "cell_type": "code",
   "execution_count": 113,
   "metadata": {},
   "outputs": [
    {
     "data": {
      "text/plain": [
       "(2456, 154)"
      ]
     },
     "execution_count": 113,
     "metadata": {},
     "output_type": "execute_result"
    }
   ],
   "source": [
    "data.shape"
   ]
  },
  {
   "cell_type": "code",
   "execution_count": 114,
   "metadata": {},
   "outputs": [
    {
     "name": "stdout",
     "output_type": "stream",
     "text": [
      "Open\n",
      "High\n",
      "Low\n",
      "Close\n",
      "Open(t-30)\n",
      "High(t-30)\n",
      "Low(t-30)\n",
      "Close(t-30)\n",
      "Open(t-29)\n",
      "High(t-29)\n",
      "Low(t-29)\n",
      "Close(t-29)\n",
      "Open(t-28)\n",
      "High(t-28)\n",
      "Low(t-28)\n",
      "Close(t-28)\n",
      "Open(t-27)\n",
      "High(t-27)\n",
      "Low(t-27)\n",
      "Close(t-27)\n",
      "Open(t-26)\n",
      "High(t-26)\n",
      "Low(t-26)\n",
      "Close(t-26)\n",
      "Open(t-25)\n",
      "High(t-25)\n",
      "Low(t-25)\n",
      "Close(t-25)\n",
      "Open(t-24)\n",
      "High(t-24)\n",
      "Low(t-24)\n",
      "Close(t-24)\n",
      "Open(t-23)\n",
      "High(t-23)\n",
      "Low(t-23)\n",
      "Close(t-23)\n",
      "Open(t-22)\n",
      "High(t-22)\n",
      "Low(t-22)\n",
      "Close(t-22)\n",
      "Open(t-21)\n",
      "High(t-21)\n",
      "Low(t-21)\n",
      "Close(t-21)\n",
      "Open(t-20)\n",
      "High(t-20)\n",
      "Low(t-20)\n",
      "Close(t-20)\n",
      "Open(t-19)\n",
      "High(t-19)\n",
      "Low(t-19)\n",
      "Close(t-19)\n",
      "Open(t-18)\n",
      "High(t-18)\n",
      "Low(t-18)\n",
      "Close(t-18)\n",
      "Open(t-17)\n",
      "High(t-17)\n",
      "Low(t-17)\n",
      "Close(t-17)\n",
      "Open(t-16)\n",
      "High(t-16)\n",
      "Low(t-16)\n",
      "Close(t-16)\n",
      "Open(t-15)\n",
      "High(t-15)\n",
      "Low(t-15)\n",
      "Close(t-15)\n",
      "Open(t-14)\n",
      "High(t-14)\n",
      "Low(t-14)\n",
      "Close(t-14)\n",
      "Open(t-13)\n",
      "High(t-13)\n",
      "Low(t-13)\n",
      "Close(t-13)\n",
      "Open(t-12)\n",
      "High(t-12)\n",
      "Low(t-12)\n",
      "Close(t-12)\n",
      "Open(t-11)\n",
      "High(t-11)\n",
      "Low(t-11)\n",
      "Close(t-11)\n",
      "Open(t-10)\n",
      "High(t-10)\n",
      "Low(t-10)\n",
      "Close(t-10)\n",
      "Open(t-9)\n",
      "High(t-9)\n",
      "Low(t-9)\n",
      "Close(t-9)\n",
      "Open(t-8)\n",
      "High(t-8)\n",
      "Low(t-8)\n",
      "Close(t-8)\n",
      "Open(t-7)\n",
      "High(t-7)\n",
      "Low(t-7)\n",
      "Close(t-7)\n",
      "Open(t-6)\n",
      "High(t-6)\n",
      "Low(t-6)\n",
      "Close(t-6)\n",
      "Open(t-5)\n",
      "High(t-5)\n",
      "Low(t-5)\n",
      "Close(t-5)\n",
      "Open(t-4)\n",
      "High(t-4)\n",
      "Low(t-4)\n",
      "Close(t-4)\n",
      "Open(t-3)\n",
      "High(t-3)\n",
      "Low(t-3)\n",
      "Close(t-3)\n",
      "Open(t-2)\n",
      "High(t-2)\n",
      "Low(t-2)\n",
      "Close(t-2)\n",
      "Open(t-1)\n",
      "High(t-1)\n",
      "Low(t-1)\n",
      "Close(t-1)\n",
      "Close(t+1)\n",
      "Close(t+2)\n",
      "Close(t+3)\n",
      "Close(t+4)\n",
      "Close(t+5)\n",
      "Close(t+6)\n",
      "Close(t+7)\n",
      "Close(t+8)\n",
      "Close(t+9)\n",
      "Close(t+10)\n",
      "Close(t+11)\n",
      "Close(t+12)\n",
      "Close(t+13)\n",
      "Close(t+14)\n",
      "Close(t+15)\n",
      "Close(t+16)\n",
      "Close(t+17)\n",
      "Close(t+18)\n",
      "Close(t+19)\n",
      "Close(t+20)\n",
      "Close(t+21)\n",
      "Close(t+22)\n",
      "Close(t+23)\n",
      "Close(t+24)\n",
      "Close(t+25)\n",
      "Close(t+26)\n",
      "Close(t+27)\n",
      "Close(t+28)\n",
      "Close(t+29)\n",
      "Close(t+30)\n"
     ]
    }
   ],
   "source": [
    "for i in data.columns:\n",
    "    print (i)"
   ]
  },
  {
   "cell_type": "markdown",
   "metadata": {},
   "source": [
    "Split the data into train and test based on a date. That gives 7 years for training and 3 years for testing."
   ]
  },
  {
   "cell_type": "code",
   "execution_count": 115,
   "metadata": {},
   "outputs": [
    {
     "name": "stdout",
     "output_type": "stream",
     "text": [
      "(1732, 154) (724, 154)\n"
     ]
    }
   ],
   "source": [
    "cut_off = '2017-01-01'\n",
    "train = data[data.index < cut_off].values\n",
    "test = data[data.index > cut_off].values\n",
    "print (train.shape, test.shape)"
   ]
  },
  {
   "cell_type": "markdown",
   "metadata": {},
   "source": [
    "Reshape the data for LSTM"
   ]
  },
  {
   "cell_type": "code",
   "execution_count": 116,
   "metadata": {},
   "outputs": [
    {
     "name": "stdout",
     "output_type": "stream",
     "text": [
      "Shape of splits:\n",
      "(1732, 120) (1732, 30) (724, 120) (724, 30) \n",
      "\n",
      "Re-shaped for LSTM:\n",
      "(1732, 30, 4) (1732, 30) (724, 30, 4) (724, 30)\n"
     ]
    }
   ],
   "source": [
    "n_features = 4\n",
    "n_in, n_out = 30, 30\n",
    "\n",
    "# 5 features, 3 timesteps lag\n",
    "n_obs = n_features * n_lag\n",
    "\n",
    "# split X, y\n",
    "X_train, y_train = train[:, :n_obs], train[:, -n_out:] #-n_features\n",
    "X_test, y_test = test[:, :n_obs], test[:, -n_out:] #-n_features\n",
    "print('Shape of splits:')\n",
    "print(X_train.shape, y_train.shape, X_test.shape, y_test.shape,'\\n')\n",
    "\n",
    "# reshape input to be 3D [samples, timesteps, features]\n",
    "X_train = X_train.reshape((X_train.shape[0], n_lag, n_features))\n",
    "X_test = X_test.reshape((X_test.shape[0], n_lag, n_features))\n",
    "print('Re-shaped for LSTM:')\n",
    "print(X_train.shape, y_train.shape, X_test.shape, y_test.shape)"
   ]
  },
  {
   "cell_type": "markdown",
   "metadata": {},
   "source": [
    "Define a simple stacked LSTM model and train it"
   ]
  },
  {
   "cell_type": "code",
   "execution_count": 117,
   "metadata": {},
   "outputs": [],
   "source": [
    "from keras.models import Sequential\n",
    "from keras.layers import LSTM\n",
    "from keras.layers import Dense"
   ]
  },
  {
   "cell_type": "code",
   "execution_count": 118,
   "metadata": {},
   "outputs": [],
   "source": [
    "model = Sequential()\n",
    "model.add(LSTM(100, activation='relu', return_sequences=True, input_shape=((X_train.shape[1]), X_train.shape[2])))\n",
    "model.add(LSTM(100, activation='relu'))\n",
    "model.add(Dense(n_out))\n",
    "model.compile(optimizer='adam', loss='mae')"
   ]
  },
  {
   "cell_type": "code",
   "execution_count": 119,
   "metadata": {},
   "outputs": [
    {
     "name": "stdout",
     "output_type": "stream",
     "text": [
      "Train on 1732 samples, validate on 724 samples\n",
      "Epoch 1/10\n",
      "1732/1732 [==============================] - 6s 3ms/step - loss: 216.7699 - val_loss: 358.5105\n",
      "Epoch 2/10\n",
      "1732/1732 [==============================] - 5s 3ms/step - loss: 183.7046 - val_loss: 137.0431\n",
      "Epoch 3/10\n",
      "1732/1732 [==============================] - 4s 2ms/step - loss: 18.6892 - val_loss: 13.6546\n",
      "Epoch 4/10\n",
      "1732/1732 [==============================] - 3s 2ms/step - loss: 9.7024 - val_loss: 12.6248\n",
      "Epoch 5/10\n",
      "1732/1732 [==============================] - 4s 2ms/step - loss: 7.7372 - val_loss: 9.9092\n",
      "Epoch 6/10\n",
      "1732/1732 [==============================] - 4s 2ms/step - loss: 7.2057 - val_loss: 9.7837\n",
      "Epoch 7/10\n",
      "1732/1732 [==============================] - 4s 2ms/step - loss: 6.6459 - val_loss: 10.1043\n",
      "Epoch 8/10\n",
      "1732/1732 [==============================] - 4s 2ms/step - loss: 6.3018 - val_loss: 9.4164\n",
      "Epoch 9/10\n",
      "1732/1732 [==============================] - 4s 2ms/step - loss: 6.1926 - val_loss: 9.1241\n",
      "Epoch 10/10\n",
      "1732/1732 [==============================] - 4s 2ms/step - loss: 6.2228 - val_loss: 9.1926\n"
     ]
    }
   ],
   "source": [
    "history = model.fit(X_train, y_train, \n",
    "                    epochs=10, batch_size=30, \n",
    "                    validation_data=(X_test, y_test), \n",
    "                    verbose=1, shuffle=False)"
   ]
  },
  {
   "cell_type": "code",
   "execution_count": 120,
   "metadata": {},
   "outputs": [
    {
     "data": {
      "image/png": "[encoded data removed]",
      "text/plain": [
       "<Figure size 432x288 with 1 Axes>"
      ]
     },
     "metadata": {
      "needs_background": "light"
     },
     "output_type": "display_data"
    }
   ],
   "source": [
    "plt.plot(history.history['loss'], label='train loss')\n",
    "plt.plot(history.history['val_loss'], label='val loss')\n",
    "plt.legend()\n",
    "plt.show()"
   ]
  },
  {
   "cell_type": "markdown",
   "metadata": {},
   "source": [
    "Model performance is poor but that's irrelevant at this stage. I'll grid search this later."
   ]
  },
  {
   "cell_type": "code",
   "execution_count": 121,
   "metadata": {},
   "outputs": [
    {
     "name": "stdout",
     "output_type": "stream",
     "text": [
      "(30, 4)\n"
     ]
    },
    {
     "data": {
      "text/plain": [
       "array([[117.58  , 118.41  , 117.29  , 118.03  ],\n",
       "       [114.31  , 114.88  , 114.115 , 114.84  ],\n",
       "       [114.83  , 115.27  , 114.09  , 114.31  ],\n",
       "       [114.9   , 115.23  , 114.36  , 114.91  ],\n",
       "       [115.058 , 116.56  , 114.91  , 116.39  ],\n",
       "       [116.34  , 117.44  , 116.34  , 116.77  ],\n",
       "       [116.84  , 116.84  , 116.12  , 116.56  ],\n",
       "       [116.61  , 117.    , 116.05  , 116.33  ],\n",
       "       [116.23  , 116.98  , 115.78  , 116.41  ],\n",
       "       [116.7359, 117.37  , 116.16  , 116.695 ],\n",
       "       [117.    , 118.55  , 116.88  , 118.49  ],\n",
       "       [118.457 , 118.72  , 116.41  , 116.81  ],\n",
       "       [117.32  , 119.05  , 117.    , 118.56  ],\n",
       "       [118.21  , 118.38  , 116.42  , 116.91  ],\n",
       "       [116.85  , 118.82  , 116.64  , 118.78  ],\n",
       "       [118.8158, 119.76  , 118.42  , 119.56  ],\n",
       "       [119.34  , 120.51  , 119.31  , 120.5   ],\n",
       "       [120.98  , 121.81  , 120.485 , 121.48  ],\n",
       "       [121.88  , 122.25  , 121.25  , 122.18  ],\n",
       "       [121.9947, 122.23  , 120.83  , 121.03  ],\n",
       "       [120.28  , 122.09  , 119.75  , 122.04  ],\n",
       "       [121.75  , 122.    , 120.2   , 120.33  ],\n",
       "       [120.52  , 120.86  , 120.11  , 120.57  ],\n",
       "       [120.8   , 121.19  , 119.99  , 120.41  ],\n",
       "       [120.57  , 120.57  , 119.35  , 119.36  ],\n",
       "       [119.3903, 119.48  , 118.3503, 118.57  ],\n",
       "       [118.52  , 119.13  , 118.495 , 118.71  ],\n",
       "       [118.915 , 119.6   , 118.64  , 119.19  ],\n",
       "       [119.22  , 119.42  , 117.96  , 118.01  ],\n",
       "       [117.95  , 118.3361, 117.48  , 117.68  ]])"
      ]
     },
     "execution_count": 121,
     "metadata": {},
     "output_type": "execute_result"
    }
   ],
   "source": [
    "print (X_test[0].shape)\n",
    "X_test[0]"
   ]
  },
  {
   "cell_type": "code",
   "execution_count": 122,
   "metadata": {},
   "outputs": [
    {
     "name": "stdout",
     "output_type": "stream",
     "text": [
      "(30,)\n"
     ]
    },
    {
     "data": {
      "text/plain": [
       "array([118.79, 118.55, 118.93, 118.85, 117.81, 118.31, 118.65, 118.56,\n",
       "       118.67, 119.09, 118.83, 118.4 , 119.35, 121.65, 122.49, 120.98,\n",
       "       121.29, 121.46, 120.16, 120.77, 120.2 , 120.73, 119.68, 120.18,\n",
       "       120.33, 120.55, 121.11, 121.76, 122.79, 123.39])"
      ]
     },
     "execution_count": 122,
     "metadata": {},
     "output_type": "execute_result"
    }
   ],
   "source": [
    "print (y_test[0].shape)\n",
    "y_test[0]"
   ]
  },
  {
   "cell_type": "code",
   "execution_count": 123,
   "metadata": {},
   "outputs": [],
   "source": [
    "# make a prediction\n",
    "\n",
    "x_input = X_test[0].reshape((1, n_lag, n_features))\n",
    "yhat = model.predict(x_input)"
   ]
  },
  {
   "cell_type": "code",
   "execution_count": 124,
   "metadata": {},
   "outputs": [
    {
     "name": "stdout",
     "output_type": "stream",
     "text": [
      "(30,)\n"
     ]
    },
    {
     "data": {
      "text/plain": [
       "array([[116.477066, 115.850426, 124.83227 , 124.49792 , 111.05237 ,\n",
       "        110.91412 , 112.937744, 120.52274 , 106.022316, 120.21299 ,\n",
       "        121.05868 , 101.66692 , 102.31312 , 124.46247 , 117.820526,\n",
       "        118.8439  , 113.82962 , 119.00057 , 122.34073 , 114.164795,\n",
       "        112.640945, 121.70441 , 119.76957 , 108.161026, 118.5379  ,\n",
       "        118.17746 , 110.20075 , 113.265   , 117.26482 , 115.25251 ]],\n",
       "      dtype=float32)"
      ]
     },
     "execution_count": 124,
     "metadata": {},
     "output_type": "execute_result"
    }
   ],
   "source": [
    "print (yhat[0].shape)\n",
    "yhat"
   ]
  },
  {
   "cell_type": "code",
   "execution_count": 125,
   "metadata": {},
   "outputs": [
    {
     "data": {
      "image/png": "[encoded data removed]",
      "text/plain": [
       "<Figure size 432x288 with 1 Axes>"
      ]
     },
     "metadata": {
      "needs_background": "light"
     },
     "output_type": "display_data"
    }
   ],
   "source": [
    "plt.plot(yhat[0], label='yhat')\n",
    "plt.plot(y_test[0], label='actual')\n",
    "plt.legend()\n",
    "plt.show()"
   ]
  },
  {
   "cell_type": "code",
   "execution_count": 126,
   "metadata": {},
   "outputs": [
    {
     "name": "stdout",
     "output_type": "stream",
     "text": [
      "Root Mean Squared Error: 53.211552874901486\n"
     ]
    }
   ],
   "source": [
    "rmse = metrics.mean_squared_error(y_test[0], yhat[0])\n",
    "print ('Root Mean Squared Error:',rmse)"
   ]
  },
  {
   "cell_type": "markdown",
   "metadata": {},
   "source": [
    "# Not Working Example\n",
    "## Multi-variate, Multi-step Time Series Prediction w/ LSTM using SCALED data\n",
    "Everything is the same, except I want to standardize the input data using MinMaxScaler as I'm planning to add in a bunch of additional features that are of vastly different magnitudes. <br>I'll start by copying the supervised learning dataframe."
   ]
  },
  {
   "cell_type": "code",
   "execution_count": 127,
   "metadata": {},
   "outputs": [
    {
     "data": {
      "text/plain": [
       "(2456, 154)"
      ]
     },
     "execution_count": 127,
     "metadata": {},
     "output_type": "execute_result"
    }
   ],
   "source": [
    "data_test = data.copy()\n",
    "data_test.shape"
   ]
  },
  {
   "cell_type": "code",
   "execution_count": 128,
   "metadata": {},
   "outputs": [
    {
     "name": "stdout",
     "output_type": "stream",
     "text": [
      "(2456, 154)\n"
     ]
    }
   ],
   "source": [
    "from sklearn.preprocessing import MinMaxScaler\n",
    "\n",
    "scaler = MinMaxScaler(feature_range=(0,1))\n",
    "\n",
    "scaled = scaler.fit_transform(data_test)\n",
    "print (scaled.shape)"
   ]
  },
  {
   "cell_type": "code",
   "execution_count": 129,
   "metadata": {},
   "outputs": [
    {
     "name": "stdout",
     "output_type": "stream",
     "text": [
      "Shape of splits:\n",
      "(1732, 120) (1732, 30) (724, 120) (724, 30) \n",
      "\n",
      "Re-shaped for LSTM:\n",
      "(1732, 30, 4) (1732, 30) (724, 30, 4) (724, 30)\n"
     ]
    }
   ],
   "source": [
    "n_train = 1732 # splits on dates as above except by index\n",
    "n_features = 4\n",
    "n_lag = 30\n",
    "n_in, n_out = 30, 30\n",
    "\n",
    "# 5 features, 3 timesteps lag\n",
    "n_obs = n_features * n_lag\n",
    "\n",
    "# split X, y\n",
    "X_train, y_train = scaled[:n_train, :n_obs], scaled[:n_train, -n_out:] #-n_features\n",
    "X_test, y_test = scaled[n_train:, :n_obs], scaled[n_train:, -n_out:] #-n_features\n",
    "print('Shape of splits:')\n",
    "print(X_train.shape, y_train.shape, X_test.shape, y_test.shape,'\\n')\n",
    "\n",
    "# reshape input to be 3D [samples, timesteps, features]\n",
    "X_train = X_train.reshape((X_train.shape[0], n_lag, n_features))\n",
    "X_test = X_test.reshape((X_test.shape[0], n_lag, n_features))\n",
    "print('Re-shaped for LSTM:')\n",
    "print(X_train.shape, y_train.shape, X_test.shape, y_test.shape)"
   ]
  },
  {
   "cell_type": "markdown",
   "metadata": {},
   "source": [
    "Same shape as example above. We'll initialize a new model with the same architecture as above and train it."
   ]
  },
  {
   "cell_type": "code",
   "execution_count": 130,
   "metadata": {},
   "outputs": [],
   "source": [
    "model_test = Sequential()\n",
    "model_test.add(LSTM(100, activation='relu', return_sequences=True, input_shape=((X_train.shape[1]), X_train.shape[2])))\n",
    "model_test.add(LSTM(100, activation='relu'))\n",
    "model_test.add(Dense(n_out))\n",
    "model_test.compile(optimizer='adam', loss='mae')"
   ]
  },
  {
   "cell_type": "code",
   "execution_count": 141,
   "metadata": {},
   "outputs": [
    {
     "name": "stdout",
     "output_type": "stream",
     "text": [
      "Train on 1732 samples, validate on 724 samples\n",
      "Epoch 1/10\n",
      "1732/1732 [==============================] - 4s 2ms/step - loss: 0.0177 - val_loss: 0.1277\n",
      "Epoch 2/10\n",
      "1732/1732 [==============================] - 4s 2ms/step - loss: 0.0176 - val_loss: 0.1313\n",
      "Epoch 3/10\n",
      "1732/1732 [==============================] - 3s 2ms/step - loss: 0.0173 - val_loss: 0.1290\n",
      "Epoch 4/10\n",
      "1732/1732 [==============================] - 4s 2ms/step - loss: 0.0172 - val_loss: 0.1273\n",
      "Epoch 5/10\n",
      "1732/1732 [==============================] - 4s 2ms/step - loss: 0.0175 - val_loss: 0.1266\n",
      "Epoch 6/10\n",
      "1732/1732 [==============================] - 4s 2ms/step - loss: 0.0174 - val_loss: 0.1245\n",
      "Epoch 7/10\n",
      "1732/1732 [==============================] - 4s 3ms/step - loss: 0.0181 - val_loss: 0.1226\n",
      "Epoch 8/10\n",
      "1732/1732 [==============================] - 4s 2ms/step - loss: 0.0193 - val_loss: 0.1212\n",
      "Epoch 9/10\n",
      "1732/1732 [==============================] - 4s 2ms/step - loss: 0.0210 - val_loss: 0.1230\n",
      "Epoch 10/10\n",
      "1732/1732 [==============================] - 4s 2ms/step - loss: 0.0216 - val_loss: 0.1227\n"
     ]
    }
   ],
   "source": [
    "history_test = model_test.fit(X_train, y_train, \n",
    "                    epochs=10, batch_size=30, \n",
    "                    validation_data=(X_test, y_test), \n",
    "                    verbose=1, shuffle=False)"
   ]
  },
  {
   "cell_type": "code",
   "execution_count": 132,
   "metadata": {},
   "outputs": [
    {
     "data": {
      "image/png": "[encoded data removed]",
      "text/plain": [
       "<Figure size 432x288 with 1 Axes>"
      ]
     },
     "metadata": {
      "needs_background": "light"
     },
     "output_type": "display_data"
    }
   ],
   "source": [
    "plt.plot(history_test.history['loss'], label='train loss')\n",
    "plt.plot(history_test.history['val_loss'], label='val loss')\n",
    "plt.legend()\n",
    "plt.show()"
   ]
  },
  {
   "cell_type": "markdown",
   "metadata": {},
   "source": [
    "Model performance is again poor but this isn't relevant now. I'll grid search a better architecture later. I'll first try and make a single prediction from X_test[0]"
   ]
  },
  {
   "cell_type": "code",
   "execution_count": 133,
   "metadata": {},
   "outputs": [
    {
     "name": "stdout",
     "output_type": "stream",
     "text": [
      "(30, 4)\n"
     ]
    },
    {
     "data": {
      "text/plain": [
       "array([[0.45413391, 0.4547839 , 0.46109667, 0.4576718 ],\n",
       "       [0.43526122, 0.43454968, 0.44311395, 0.43946644],\n",
       "       [0.43835535, 0.43687124, 0.44296314, 0.43629621],\n",
       "       [0.43877187, 0.43663313, 0.4445919 , 0.43988515],\n",
       "       [0.43971201, 0.44455027, 0.44790975, 0.44873789],\n",
       "       [0.44734024, 0.44978868, 0.45653616, 0.45101089],\n",
       "       [0.45031536, 0.44621704, 0.45520902, 0.44975476],\n",
       "       [0.4489468 , 0.44716947, 0.45478675, 0.44837899],\n",
       "       [0.44668571, 0.44705042, 0.45315799, 0.44885752],\n",
       "       [0.44969594, 0.44937199, 0.45545032, 0.45056227],\n",
       "       [0.4512674 , 0.45639621, 0.45979369, 0.4612992 ],\n",
       "       [0.45993693, 0.45740818, 0.45695844, 0.45125015],\n",
       "       [0.45317149, 0.45937258, 0.46051758, 0.46171791],\n",
       "       [0.45846721, 0.45538425, 0.45701876, 0.45184831],\n",
       "       [0.45037487, 0.45800345, 0.4583459 , 0.46303386],\n",
       "       [0.46207188, 0.46359902, 0.46908367, 0.46769949],\n",
       "       [0.465191  , 0.46806358, 0.47445255, 0.47332217],\n",
       "       [0.47494942, 0.47580213, 0.48154069, 0.47918411],\n",
       "       [0.48030465, 0.47842133, 0.48615552, 0.48337122],\n",
       "       [0.48098715, 0.47830228, 0.48362189, 0.4764924 ],\n",
       "       [0.47078424, 0.4774689 , 0.47710683, 0.4825338 ],\n",
       "       [0.47953112, 0.47693315, 0.47982144, 0.4723053 ],\n",
       "       [0.47221231, 0.47014703, 0.47927852, 0.47374088],\n",
       "       [0.47387838, 0.47211144, 0.47855462, 0.47278383],\n",
       "       [0.47250982, 0.46842074, 0.47469385, 0.46650317],\n",
       "       [0.4654903 , 0.46193226, 0.46866321, 0.46177772],\n",
       "       [0.46031179, 0.4598488 , 0.4695361 , 0.46261515],\n",
       "       [0.46266214, 0.46264659, 0.47041081, 0.4654863 ],\n",
       "       [0.46447697, 0.46157509, 0.46630874, 0.45842804],\n",
       "       [0.45692015, 0.45512292, 0.46341316, 0.45557486]])"
      ]
     },
     "execution_count": 133,
     "metadata": {},
     "output_type": "execute_result"
    }
   ],
   "source": [
    "print (X_test[0].shape)\n",
    "X_test[0]"
   ]
  },
  {
   "cell_type": "code",
   "execution_count": 134,
   "metadata": {},
   "outputs": [
    {
     "name": "stdout",
     "output_type": "stream",
     "text": [
      "(30,)\n"
     ]
    },
    {
     "data": {
      "text/plain": [
       "array([0.46222515, 0.46078725, 0.46306393, 0.46258463, 0.45517863,\n",
       "       0.45785521, 0.45989787, 0.45903216, 0.45969342, 0.46102687,\n",
       "       0.45946044, 0.4568698 , 0.4625933 , 0.4764502 , 0.48151098,\n",
       "       0.47205643, 0.47252614, 0.47355377, 0.46569546, 0.46938282,\n",
       "       0.46593725, 0.46914103, 0.46279393, 0.46581636, 0.46672309,\n",
       "       0.46805295, 0.47022115, 0.4736491 , 0.47910593, 0.48262454])"
      ]
     },
     "execution_count": 134,
     "metadata": {},
     "output_type": "execute_result"
    }
   ],
   "source": [
    "print (y_test[0].shape)\n",
    "y_test[0]"
   ]
  },
  {
   "cell_type": "code",
   "execution_count": 135,
   "metadata": {},
   "outputs": [
    {
     "name": "stdout",
     "output_type": "stream",
     "text": [
      "(1, 30, 4)\n"
     ]
    }
   ],
   "source": [
    "# make a prediction\n",
    "\n",
    "x_input = X_test[0].reshape((1, n_lag, n_features))\n",
    "print (x_input.shape)\n",
    "yhat = model.predict(x_input)"
   ]
  },
  {
   "cell_type": "code",
   "execution_count": 136,
   "metadata": {},
   "outputs": [
    {
     "name": "stdout",
     "output_type": "stream",
     "text": [
      "(30,)\n"
     ]
    },
    {
     "data": {
      "text/plain": [
       "array([[-0.00903219,  0.11790405, -0.08642016,  0.00292022,  0.10133739,\n",
       "         0.06615984,  0.01434928, -0.00076718,  0.06672458, -0.05749612,\n",
       "         0.00959161,  0.11929265,  0.03426713,  0.0376856 , -0.02973297,\n",
       "         0.00675971,  0.08313873,  0.03308712,  0.01652435,  0.16677892,\n",
       "        -0.00106546, -0.06557446, -0.01277334,  0.08809669, -0.02564641,\n",
       "         0.00607626,  0.08215622,  0.05124085,  0.00919541, -0.06729279]],\n",
       "      dtype=float32)"
      ]
     },
     "execution_count": 136,
     "metadata": {},
     "output_type": "execute_result"
    }
   ],
   "source": [
    "print (yhat[0].shape)\n",
    "yhat"
   ]
  },
  {
   "cell_type": "code",
   "execution_count": 137,
   "metadata": {},
   "outputs": [
    {
     "data": {
      "image/png": "[encoded data removed]",
      "text/plain": [
       "<Figure size 432x288 with 1 Axes>"
      ]
     },
     "metadata": {
      "needs_background": "light"
     },
     "output_type": "display_data"
    }
   ],
   "source": [
    "plt.plot(yhat[0], label='yhat')\n",
    "plt.plot(y_test[0], label='actual')\n",
    "plt.legend()\n",
    "plt.show()"
   ]
  },
  {
   "cell_type": "markdown",
   "metadata": {},
   "source": [
    "OK, we have prediction (albeit, a crap one) but I can't work out how to invert the scaling on either a single input in X_test or by predicting the entire X_test in a single go."
   ]
  },
  {
   "cell_type": "code",
   "execution_count": 138,
   "metadata": {},
   "outputs": [
    {
     "ename": "AxisError",
     "evalue": "axis 1 is out of bounds for array of dimension 1",
     "output_type": "error",
     "traceback": [
      "\u001b[0;31m---------------------------------------------------------------------------\u001b[0m",
      "\u001b[0;31mAxisError\u001b[0m                                 Traceback (most recent call last)",
      "\u001b[0;32m<ipython-input-138-13e1437036cc>\u001b[0m in \u001b[0;36m<module>\u001b[0;34m\u001b[0m\n\u001b[1;32m      1\u001b[0m \u001b[0;31m# invert scaling for forecast\u001b[0m\u001b[0;34m\u001b[0m\u001b[0;34m\u001b[0m\u001b[0;34m\u001b[0m\u001b[0m\n\u001b[0;32m----> 2\u001b[0;31m \u001b[0minv_yhat\u001b[0m \u001b[0;34m=\u001b[0m \u001b[0mnp\u001b[0m\u001b[0;34m.\u001b[0m\u001b[0mconcatenate\u001b[0m\u001b[0;34m(\u001b[0m\u001b[0;34m(\u001b[0m\u001b[0myhat\u001b[0m\u001b[0;34m[\u001b[0m\u001b[0;36m0\u001b[0m\u001b[0;34m]\u001b[0m\u001b[0;34m,\u001b[0m \u001b[0mX_test\u001b[0m\u001b[0;34m[\u001b[0m\u001b[0;34m:\u001b[0m\u001b[0;36m0\u001b[0m\u001b[0;34m,\u001b[0m \u001b[0;34m-\u001b[0m\u001b[0;34m(\u001b[0m\u001b[0mn_features\u001b[0m\u001b[0;34m-\u001b[0m\u001b[0;36m1\u001b[0m\u001b[0;34m)\u001b[0m\u001b[0;34m:\u001b[0m\u001b[0;34m]\u001b[0m\u001b[0;34m)\u001b[0m\u001b[0;34m,\u001b[0m \u001b[0maxis\u001b[0m\u001b[0;34m=\u001b[0m\u001b[0;36m1\u001b[0m\u001b[0;34m)\u001b[0m\u001b[0;34m\u001b[0m\u001b[0;34m\u001b[0m\u001b[0m\n\u001b[0m\u001b[1;32m      3\u001b[0m \u001b[0minv_yhat\u001b[0m \u001b[0;34m=\u001b[0m \u001b[0mscaler\u001b[0m\u001b[0;34m.\u001b[0m\u001b[0minverse_transform\u001b[0m\u001b[0;34m(\u001b[0m\u001b[0minv_yhat\u001b[0m\u001b[0;34m)\u001b[0m\u001b[0;34m\u001b[0m\u001b[0;34m\u001b[0m\u001b[0m\n\u001b[1;32m      4\u001b[0m \u001b[0minv_yhat\u001b[0m \u001b[0;34m=\u001b[0m \u001b[0minv_yhat\u001b[0m\u001b[0;34m[\u001b[0m\u001b[0;34m:\u001b[0m\u001b[0;34m,\u001b[0m\u001b[0;36m0\u001b[0m\u001b[0;34m]\u001b[0m\u001b[0;34m\u001b[0m\u001b[0;34m\u001b[0m\u001b[0m\n",
      "\u001b[0;32m<__array_function__ internals>\u001b[0m in \u001b[0;36mconcatenate\u001b[0;34m(*args, **kwargs)\u001b[0m\n",
      "\u001b[0;31mAxisError\u001b[0m: axis 1 is out of bounds for array of dimension 1"
     ]
    }
   ],
   "source": [
    "# invert scaling for forecast\n",
    "inv_yhat = np.concatenate((yhat[0], X_test[:0, -(n_features-1):]), axis=1)\n",
    "inv_yhat = scaler.inverse_transform(inv_yhat)\n",
    "inv_yhat = inv_yhat[:,0]"
   ]
  },
  {
   "cell_type": "markdown",
   "metadata": {},
   "source": [
    "Trying again for a prediction of everything in X_test (closer to example)"
   ]
  },
  {
   "cell_type": "code",
   "execution_count": 139,
   "metadata": {},
   "outputs": [
    {
     "name": "stdout",
     "output_type": "stream",
     "text": [
      "(724, 30)\n",
      "(724, 120)\n"
     ]
    }
   ],
   "source": [
    "yhat_entire = model_test.predict(X_test)\n",
    "X_test_entire = X_test.reshape((X_test.shape[0], n_in*n_features))\n",
    "print (yhat_entire.shape)\n",
    "print (X_test_entire.shape)"
   ]
  },
  {
   "cell_type": "markdown",
   "metadata": {},
   "source": [
    "Looking at these two shapes, I'm still 4 columns short of the array size that the MinMaxScaler was applied too."
   ]
  },
  {
   "cell_type": "code",
   "execution_count": 140,
   "metadata": {},
   "outputs": [
    {
     "ename": "ValueError",
     "evalue": "operands could not be broadcast together with shapes (724,150) (154,) (724,150) ",
     "output_type": "error",
     "traceback": [
      "\u001b[0;31m---------------------------------------------------------------------------\u001b[0m",
      "\u001b[0;31mValueError\u001b[0m                                Traceback (most recent call last)",
      "\u001b[0;32m<ipython-input-140-a973b8509d67>\u001b[0m in \u001b[0;36m<module>\u001b[0;34m\u001b[0m\n\u001b[1;32m      2\u001b[0m \u001b[0;31m#inv_yhat = np.concatenate((yhat_entire, X_test_entire[:, -30:]), axis=1)\u001b[0m\u001b[0;34m\u001b[0m\u001b[0;34m\u001b[0m\u001b[0;34m\u001b[0m\u001b[0m\n\u001b[1;32m      3\u001b[0m \u001b[0minv_yhat\u001b[0m \u001b[0;34m=\u001b[0m \u001b[0mnp\u001b[0m\u001b[0;34m.\u001b[0m\u001b[0mconcatenate\u001b[0m\u001b[0;34m(\u001b[0m\u001b[0;34m(\u001b[0m\u001b[0myhat_entire\u001b[0m\u001b[0;34m,\u001b[0m \u001b[0mX_test_entire\u001b[0m\u001b[0;34m)\u001b[0m\u001b[0;34m,\u001b[0m \u001b[0maxis\u001b[0m\u001b[0;34m=\u001b[0m\u001b[0;36m1\u001b[0m\u001b[0;34m)\u001b[0m\u001b[0;34m\u001b[0m\u001b[0;34m\u001b[0m\u001b[0m\n\u001b[0;32m----> 4\u001b[0;31m \u001b[0minv_yhat\u001b[0m \u001b[0;34m=\u001b[0m \u001b[0mscaler\u001b[0m\u001b[0;34m.\u001b[0m\u001b[0minverse_transform\u001b[0m\u001b[0;34m(\u001b[0m\u001b[0minv_yhat\u001b[0m\u001b[0;34m)\u001b[0m\u001b[0;34m\u001b[0m\u001b[0;34m\u001b[0m\u001b[0m\n\u001b[0m\u001b[1;32m      5\u001b[0m \u001b[0minv_yhat\u001b[0m \u001b[0;34m=\u001b[0m \u001b[0minv_yhat\u001b[0m\u001b[0;34m[\u001b[0m\u001b[0;34m:\u001b[0m\u001b[0;34m,\u001b[0m\u001b[0;36m0\u001b[0m\u001b[0;34m]\u001b[0m\u001b[0;34m\u001b[0m\u001b[0;34m\u001b[0m\u001b[0m\n",
      "\u001b[0;32m~/anaconda3/lib/python3.6/site-packages/sklearn/preprocessing/_data.py\u001b[0m in \u001b[0;36minverse_transform\u001b[0;34m(self, X)\u001b[0m\n\u001b[1;32m    434\u001b[0m                         force_all_finite=\"allow-nan\")\n\u001b[1;32m    435\u001b[0m \u001b[0;34m\u001b[0m\u001b[0m\n\u001b[0;32m--> 436\u001b[0;31m         \u001b[0mX\u001b[0m \u001b[0;34m-=\u001b[0m \u001b[0mself\u001b[0m\u001b[0;34m.\u001b[0m\u001b[0mmin_\u001b[0m\u001b[0;34m\u001b[0m\u001b[0;34m\u001b[0m\u001b[0m\n\u001b[0m\u001b[1;32m    437\u001b[0m         \u001b[0mX\u001b[0m \u001b[0;34m/=\u001b[0m \u001b[0mself\u001b[0m\u001b[0;34m.\u001b[0m\u001b[0mscale_\u001b[0m\u001b[0;34m\u001b[0m\u001b[0;34m\u001b[0m\u001b[0m\n\u001b[1;32m    438\u001b[0m         \u001b[0;32mreturn\u001b[0m \u001b[0mX\u001b[0m\u001b[0;34m\u001b[0m\u001b[0;34m\u001b[0m\u001b[0m\n",
      "\u001b[0;31mValueError\u001b[0m: operands could not be broadcast together with shapes (724,150) (154,) (724,150) "
     ]
    }
   ],
   "source": [
    "# invert scaling for forecast\n",
    "#inv_yhat = np.concatenate((yhat_entire, X_test_entire[:, -30:]), axis=1)\n",
    "inv_yhat = np.concatenate((yhat_entire, X_test_entire), axis=1)\n",
    "inv_yhat = scaler.inverse_transform(inv_yhat)\n",
    "inv_yhat = inv_yhat[:,0]"
   ]
  },
  {
   "cell_type": "markdown",
   "metadata": {},
   "source": [
    "I cannot work out how to get back to the array size of 154 where the scaling was applied from X_test and yhat."
   ]
  },
  {
   "cell_type": "markdown",
   "metadata": {},
   "source": [
    "I'm trying to follow this example [https://machinelearningmastery.com/multivariate-time-series-forecasting-lstms-keras/] to invert the scaling but I cannot for the life of me work out where I'm going wrong with the getting back to the same shaped array as where the MinMaxScaler was applied.\n",
    "\n",
    "```\n",
    "# invert scaling for forecast\n",
    "inv_yhat = concatenate((yhat, test_X[:, 1:]), axis=1)\n",
    "inv_yhat = scaler.inverse_transform(inv_yhat)\n",
    "inv_yhat = inv_yhat[:,0]\n",
    "# invert scaling for actual\n",
    "test_y = test_y.reshape((len(test_y), 1))\n",
    "inv_y = concatenate((test_y, test_X[:, 1:]), axis=1)\n",
    "inv_y = scaler.inverse_transform(inv_y)\n",
    "inv_y = inv_y[:,0]\n",
    "\n",
    "```"
   ]
  },
  {
   "cell_type": "code",
   "execution_count": null,
   "metadata": {},
   "outputs": [],
   "source": [
    "plt.plot(inv_yhat, label='yhat')\n",
    "plt.plot(inv_y, label='actual')\n",
    "plt.legend()\n",
    "plt.show()"
   ]
  },
  {
   "cell_type": "code",
   "execution_count": null,
   "metadata": {},
   "outputs": [],
   "source": [
    "rmse = metrics.mean_squared_error(inv_y, inv_yhat)\n",
    "print ('Root Mean Squared Error:',rmse)"
   ]
  }
 ],
 "metadata": {
  "kernelspec": {
   "display_name": "Python 3",
   "language": "python",
   "name": "python3"
  },
  "language_info": {
   "codemirror_mode": {
    "name": "ipython",
    "version": 3
   },
   "file_extension": ".py",
   "mimetype": "text/x-python",
   "name": "python",
   "nbconvert_exporter": "python",
   "pygments_lexer": "ipython3",
   "version": "3.6.9"
  }
 },
 "nbformat": 4,
 "nbformat_minor": 2
}
